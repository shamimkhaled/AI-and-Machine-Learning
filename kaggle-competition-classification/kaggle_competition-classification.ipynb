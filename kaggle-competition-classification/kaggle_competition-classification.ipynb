{
 "cells": [
  {
   "cell_type": "markdown",
   "id": "0b0d3288",
   "metadata": {},
   "source": [
    "## Importing the libraries"
   ]
  },
  {
   "cell_type": "code",
   "execution_count": 1,
   "id": "0a90757f",
   "metadata": {},
   "outputs": [],
   "source": [
    "import numpy as np\n",
    "import matplotlib.pyplot as plt\n",
    "import pandas as pd\n",
    "import seaborn as sns\n",
    "import warnings\n",
    "warnings.filterwarnings(\"ignore\")\n",
    "\n",
    "%matplotlib inline"
   ]
  },
  {
   "cell_type": "markdown",
   "id": "d48c2f29",
   "metadata": {},
   "source": [
    "## Load the dataset"
   ]
  },
  {
   "cell_type": "code",
   "execution_count": 2,
   "id": "bde8ec96",
   "metadata": {},
   "outputs": [],
   "source": [
    "train_dataset = pd.read_csv('train.csv', index_col='ID')\n",
    "test_dataset = pd.read_csv('test.csv', index_col='ID')"
   ]
  },
  {
   "cell_type": "code",
   "execution_count": 3,
   "id": "363831c5",
   "metadata": {},
   "outputs": [
    {
     "data": {
      "text/html": [
       "<div>\n",
       "<style scoped>\n",
       "    .dataframe tbody tr th:only-of-type {\n",
       "        vertical-align: middle;\n",
       "    }\n",
       "\n",
       "    .dataframe tbody tr th {\n",
       "        vertical-align: top;\n",
       "    }\n",
       "\n",
       "    .dataframe thead th {\n",
       "        text-align: right;\n",
       "    }\n",
       "</style>\n",
       "<table border=\"1\" class=\"dataframe\">\n",
       "  <thead>\n",
       "    <tr style=\"text-align: right;\">\n",
       "      <th></th>\n",
       "      <th>col_0</th>\n",
       "      <th>col_1</th>\n",
       "      <th>col_2</th>\n",
       "      <th>col_3</th>\n",
       "      <th>col_4</th>\n",
       "      <th>col_5</th>\n",
       "      <th>y</th>\n",
       "    </tr>\n",
       "    <tr>\n",
       "      <th>ID</th>\n",
       "      <th></th>\n",
       "      <th></th>\n",
       "      <th></th>\n",
       "      <th></th>\n",
       "      <th></th>\n",
       "      <th></th>\n",
       "      <th></th>\n",
       "    </tr>\n",
       "  </thead>\n",
       "  <tbody>\n",
       "    <tr>\n",
       "      <th>1</th>\n",
       "      <td>A1</td>\n",
       "      <td>0.423913</td>\n",
       "      <td>310.7</td>\n",
       "      <td>-1.302803</td>\n",
       "      <td>0.889328</td>\n",
       "      <td>1737</td>\n",
       "      <td>C3</td>\n",
       "    </tr>\n",
       "    <tr>\n",
       "      <th>2</th>\n",
       "      <td>A0</td>\n",
       "      <td>0.586957</td>\n",
       "      <td>310.1</td>\n",
       "      <td>0.021376</td>\n",
       "      <td>0.640316</td>\n",
       "      <td>1483</td>\n",
       "      <td>C1</td>\n",
       "    </tr>\n",
       "    <tr>\n",
       "      <th>3</th>\n",
       "      <td>A0</td>\n",
       "      <td>0.934783</td>\n",
       "      <td>313.3</td>\n",
       "      <td>-0.570492</td>\n",
       "      <td>0.636364</td>\n",
       "      <td>1507</td>\n",
       "      <td>C1</td>\n",
       "    </tr>\n",
       "    <tr>\n",
       "      <th>4</th>\n",
       "      <td>A1</td>\n",
       "      <td>0.402174</td>\n",
       "      <td>308.6</td>\n",
       "      <td>-0.921600</td>\n",
       "      <td>0.387352</td>\n",
       "      <td>1648</td>\n",
       "      <td>C1</td>\n",
       "    </tr>\n",
       "    <tr>\n",
       "      <th>5</th>\n",
       "      <td>A2</td>\n",
       "      <td>0.532609</td>\n",
       "      <td>311.4</td>\n",
       "      <td>-0.389922</td>\n",
       "      <td>0.557312</td>\n",
       "      <td>1506</td>\n",
       "      <td>C1</td>\n",
       "    </tr>\n",
       "  </tbody>\n",
       "</table>\n",
       "</div>"
      ],
      "text/plain": [
       "   col_0     col_1  col_2     col_3     col_4  col_5   y\n",
       "ID                                                      \n",
       "1     A1  0.423913  310.7 -1.302803  0.889328   1737  C3\n",
       "2     A0  0.586957  310.1  0.021376  0.640316   1483  C1\n",
       "3     A0  0.934783  313.3 -0.570492  0.636364   1507  C1\n",
       "4     A1  0.402174  308.6 -0.921600  0.387352   1648  C1\n",
       "5     A2  0.532609  311.4 -0.389922  0.557312   1506  C1"
      ]
     },
     "execution_count": 3,
     "metadata": {},
     "output_type": "execute_result"
    }
   ],
   "source": [
    "train_dataset.head()"
   ]
  },
  {
   "cell_type": "code",
   "execution_count": 4,
   "id": "00f4e262",
   "metadata": {},
   "outputs": [
    {
     "data": {
      "text/html": [
       "<div>\n",
       "<style scoped>\n",
       "    .dataframe tbody tr th:only-of-type {\n",
       "        vertical-align: middle;\n",
       "    }\n",
       "\n",
       "    .dataframe tbody tr th {\n",
       "        vertical-align: top;\n",
       "    }\n",
       "\n",
       "    .dataframe thead th {\n",
       "        text-align: right;\n",
       "    }\n",
       "</style>\n",
       "<table border=\"1\" class=\"dataframe\">\n",
       "  <thead>\n",
       "    <tr style=\"text-align: right;\">\n",
       "      <th></th>\n",
       "      <th>col_0</th>\n",
       "      <th>col_1</th>\n",
       "      <th>col_2</th>\n",
       "      <th>col_3</th>\n",
       "      <th>col_4</th>\n",
       "      <th>col_5</th>\n",
       "    </tr>\n",
       "    <tr>\n",
       "      <th>ID</th>\n",
       "      <th></th>\n",
       "      <th></th>\n",
       "      <th></th>\n",
       "      <th></th>\n",
       "      <th></th>\n",
       "      <th></th>\n",
       "    </tr>\n",
       "  </thead>\n",
       "  <tbody>\n",
       "    <tr>\n",
       "      <th>6001</th>\n",
       "      <td>A1</td>\n",
       "      <td>0.434783</td>\n",
       "      <td>309.0</td>\n",
       "      <td>1.044606</td>\n",
       "      <td>0.553360</td>\n",
       "      <td>1447</td>\n",
       "    </tr>\n",
       "    <tr>\n",
       "      <th>6002</th>\n",
       "      <td>A0</td>\n",
       "      <td>0.423913</td>\n",
       "      <td>310.8</td>\n",
       "      <td>-0.018750</td>\n",
       "      <td>0.699605</td>\n",
       "      <td>1502</td>\n",
       "    </tr>\n",
       "    <tr>\n",
       "      <th>6003</th>\n",
       "      <td>A1</td>\n",
       "      <td>0.489130</td>\n",
       "      <td>311.1</td>\n",
       "      <td>0.733625</td>\n",
       "      <td>0.743083</td>\n",
       "      <td>1452</td>\n",
       "    </tr>\n",
       "    <tr>\n",
       "      <th>6004</th>\n",
       "      <td>A2</td>\n",
       "      <td>0.380435</td>\n",
       "      <td>309.8</td>\n",
       "      <td>-0.409985</td>\n",
       "      <td>0.675889</td>\n",
       "      <td>1490</td>\n",
       "    </tr>\n",
       "    <tr>\n",
       "      <th>6005</th>\n",
       "      <td>A0</td>\n",
       "      <td>0.608696</td>\n",
       "      <td>310.7</td>\n",
       "      <td>-1.272708</td>\n",
       "      <td>0.300395</td>\n",
       "      <td>1696</td>\n",
       "    </tr>\n",
       "  </tbody>\n",
       "</table>\n",
       "</div>"
      ],
      "text/plain": [
       "     col_0     col_1  col_2     col_3     col_4  col_5\n",
       "ID                                                    \n",
       "6001    A1  0.434783  309.0  1.044606  0.553360   1447\n",
       "6002    A0  0.423913  310.8 -0.018750  0.699605   1502\n",
       "6003    A1  0.489130  311.1  0.733625  0.743083   1452\n",
       "6004    A2  0.380435  309.8 -0.409985  0.675889   1490\n",
       "6005    A0  0.608696  310.7 -1.272708  0.300395   1696"
      ]
     },
     "execution_count": 4,
     "metadata": {},
     "output_type": "execute_result"
    }
   ],
   "source": [
    "test_dataset.head()"
   ]
  },
  {
   "cell_type": "code",
   "execution_count": 5,
   "id": "e0c5ad7b",
   "metadata": {},
   "outputs": [
    {
     "data": {
      "text/plain": [
       "(6000, 7)"
      ]
     },
     "execution_count": 5,
     "metadata": {},
     "output_type": "execute_result"
    }
   ],
   "source": [
    "train_dataset.shape"
   ]
  },
  {
   "cell_type": "code",
   "execution_count": 6,
   "id": "ef661754",
   "metadata": {},
   "outputs": [
    {
     "data": {
      "text/plain": [
       "(4000, 6)"
      ]
     },
     "execution_count": 6,
     "metadata": {},
     "output_type": "execute_result"
    }
   ],
   "source": [
    "test_dataset.shape"
   ]
  },
  {
   "cell_type": "code",
   "execution_count": 7,
   "id": "d091e6e5",
   "metadata": {},
   "outputs": [
    {
     "name": "stdout",
     "output_type": "stream",
     "text": [
      "<class 'pandas.core.frame.DataFrame'>\n",
      "Int64Index: 6000 entries, 1 to 6000\n",
      "Data columns (total 7 columns):\n",
      " #   Column  Non-Null Count  Dtype  \n",
      "---  ------  --------------  -----  \n",
      " 0   col_0   6000 non-null   object \n",
      " 1   col_1   6000 non-null   float64\n",
      " 2   col_2   6000 non-null   float64\n",
      " 3   col_3   6000 non-null   float64\n",
      " 4   col_4   6000 non-null   float64\n",
      " 5   col_5   6000 non-null   int64  \n",
      " 6   y       6000 non-null   object \n",
      "dtypes: float64(4), int64(1), object(2)\n",
      "memory usage: 375.0+ KB\n"
     ]
    }
   ],
   "source": [
    "train_dataset.info()"
   ]
  },
  {
   "cell_type": "markdown",
   "id": "b8f9dfd5",
   "metadata": {},
   "source": [
    "#### Check the missing value"
   ]
  },
  {
   "cell_type": "code",
   "execution_count": 8,
   "id": "3bdf043b",
   "metadata": {},
   "outputs": [
    {
     "data": {
      "text/plain": [
       "col_0    0\n",
       "col_1    0\n",
       "col_2    0\n",
       "col_3    0\n",
       "col_4    0\n",
       "col_5    0\n",
       "y        0\n",
       "dtype: int64"
      ]
     },
     "execution_count": 8,
     "metadata": {},
     "output_type": "execute_result"
    }
   ],
   "source": [
    "train_dataset.isnull().sum()"
   ]
  },
  {
   "cell_type": "code",
   "execution_count": 9,
   "id": "952d8f50",
   "metadata": {},
   "outputs": [
    {
     "data": {
      "text/plain": [
       "C1    5791\n",
       "C6      67\n",
       "C2      57\n",
       "C4      47\n",
       "C3      27\n",
       "C5      11\n",
       "Name: y, dtype: int64"
      ]
     },
     "execution_count": 9,
     "metadata": {},
     "output_type": "execute_result"
    }
   ],
   "source": [
    "# count the value of y (target) column\n",
    "train_dataset['y'].value_counts()"
   ]
  },
  {
   "cell_type": "code",
   "execution_count": 10,
   "id": "9c48a017",
   "metadata": {},
   "outputs": [],
   "source": [
    "#drop the ID column\n",
    "#train_dataset.drop(columns=['ID'], inplace=True)"
   ]
  },
  {
   "cell_type": "markdown",
   "id": "f3f29fae",
   "metadata": {},
   "source": [
    "#### Label encoding for categorical variables of training data"
   ]
  },
  {
   "cell_type": "code",
   "execution_count": 11,
   "id": "8cde2a77",
   "metadata": {},
   "outputs": [],
   "source": [
    "from sklearn.preprocessing import LabelEncoder\n",
    "labelencoder_Y = LabelEncoder()\n",
    "train_dataset['col_0'] = labelencoder_Y.fit_transform(train_dataset['col_0'])\n",
    "train_dataset['y'] = labelencoder_Y.fit_transform(train_dataset['y'])"
   ]
  },
  {
   "cell_type": "code",
   "execution_count": 12,
   "id": "a1521064",
   "metadata": {},
   "outputs": [
    {
     "data": {
      "text/html": [
       "<div>\n",
       "<style scoped>\n",
       "    .dataframe tbody tr th:only-of-type {\n",
       "        vertical-align: middle;\n",
       "    }\n",
       "\n",
       "    .dataframe tbody tr th {\n",
       "        vertical-align: top;\n",
       "    }\n",
       "\n",
       "    .dataframe thead th {\n",
       "        text-align: right;\n",
       "    }\n",
       "</style>\n",
       "<table border=\"1\" class=\"dataframe\">\n",
       "  <thead>\n",
       "    <tr style=\"text-align: right;\">\n",
       "      <th></th>\n",
       "      <th>col_0</th>\n",
       "      <th>col_1</th>\n",
       "      <th>col_2</th>\n",
       "      <th>col_3</th>\n",
       "      <th>col_4</th>\n",
       "      <th>col_5</th>\n",
       "      <th>y</th>\n",
       "    </tr>\n",
       "    <tr>\n",
       "      <th>ID</th>\n",
       "      <th></th>\n",
       "      <th></th>\n",
       "      <th></th>\n",
       "      <th></th>\n",
       "      <th></th>\n",
       "      <th></th>\n",
       "      <th></th>\n",
       "    </tr>\n",
       "  </thead>\n",
       "  <tbody>\n",
       "    <tr>\n",
       "      <th>1</th>\n",
       "      <td>4</td>\n",
       "      <td>0.423913</td>\n",
       "      <td>310.7</td>\n",
       "      <td>-1.302803</td>\n",
       "      <td>0.889328</td>\n",
       "      <td>1737</td>\n",
       "      <td>2</td>\n",
       "    </tr>\n",
       "    <tr>\n",
       "      <th>2</th>\n",
       "      <td>3</td>\n",
       "      <td>0.586957</td>\n",
       "      <td>310.1</td>\n",
       "      <td>0.021376</td>\n",
       "      <td>0.640316</td>\n",
       "      <td>1483</td>\n",
       "      <td>0</td>\n",
       "    </tr>\n",
       "    <tr>\n",
       "      <th>3</th>\n",
       "      <td>3</td>\n",
       "      <td>0.934783</td>\n",
       "      <td>313.3</td>\n",
       "      <td>-0.570492</td>\n",
       "      <td>0.636364</td>\n",
       "      <td>1507</td>\n",
       "      <td>0</td>\n",
       "    </tr>\n",
       "    <tr>\n",
       "      <th>4</th>\n",
       "      <td>4</td>\n",
       "      <td>0.402174</td>\n",
       "      <td>308.6</td>\n",
       "      <td>-0.921600</td>\n",
       "      <td>0.387352</td>\n",
       "      <td>1648</td>\n",
       "      <td>0</td>\n",
       "    </tr>\n",
       "    <tr>\n",
       "      <th>5</th>\n",
       "      <td>5</td>\n",
       "      <td>0.532609</td>\n",
       "      <td>311.4</td>\n",
       "      <td>-0.389922</td>\n",
       "      <td>0.557312</td>\n",
       "      <td>1506</td>\n",
       "      <td>0</td>\n",
       "    </tr>\n",
       "    <tr>\n",
       "      <th>...</th>\n",
       "      <td>...</td>\n",
       "      <td>...</td>\n",
       "      <td>...</td>\n",
       "      <td>...</td>\n",
       "      <td>...</td>\n",
       "      <td>...</td>\n",
       "      <td>...</td>\n",
       "    </tr>\n",
       "    <tr>\n",
       "      <th>5996</th>\n",
       "      <td>3</td>\n",
       "      <td>0.206522</td>\n",
       "      <td>308.5</td>\n",
       "      <td>0.693498</td>\n",
       "      <td>0.683794</td>\n",
       "      <td>1487</td>\n",
       "      <td>0</td>\n",
       "    </tr>\n",
       "    <tr>\n",
       "      <th>5997</th>\n",
       "      <td>4</td>\n",
       "      <td>0.445652</td>\n",
       "      <td>309.2</td>\n",
       "      <td>-0.099004</td>\n",
       "      <td>0.102767</td>\n",
       "      <td>1564</td>\n",
       "      <td>0</td>\n",
       "    </tr>\n",
       "    <tr>\n",
       "      <th>5998</th>\n",
       "      <td>4</td>\n",
       "      <td>0.445652</td>\n",
       "      <td>308.7</td>\n",
       "      <td>2.298564</td>\n",
       "      <td>0.529644</td>\n",
       "      <td>1446</td>\n",
       "      <td>1</td>\n",
       "    </tr>\n",
       "    <tr>\n",
       "      <th>5999</th>\n",
       "      <td>4</td>\n",
       "      <td>0.836957</td>\n",
       "      <td>312.3</td>\n",
       "      <td>-1.814418</td>\n",
       "      <td>0.521739</td>\n",
       "      <td>1932</td>\n",
       "      <td>0</td>\n",
       "    </tr>\n",
       "    <tr>\n",
       "      <th>6000</th>\n",
       "      <td>4</td>\n",
       "      <td>0.423913</td>\n",
       "      <td>310.7</td>\n",
       "      <td>-0.369858</td>\n",
       "      <td>0.691700</td>\n",
       "      <td>1540</td>\n",
       "      <td>0</td>\n",
       "    </tr>\n",
       "  </tbody>\n",
       "</table>\n",
       "<p>6000 rows × 7 columns</p>\n",
       "</div>"
      ],
      "text/plain": [
       "      col_0     col_1  col_2     col_3     col_4  col_5  y\n",
       "ID                                                        \n",
       "1         4  0.423913  310.7 -1.302803  0.889328   1737  2\n",
       "2         3  0.586957  310.1  0.021376  0.640316   1483  0\n",
       "3         3  0.934783  313.3 -0.570492  0.636364   1507  0\n",
       "4         4  0.402174  308.6 -0.921600  0.387352   1648  0\n",
       "5         5  0.532609  311.4 -0.389922  0.557312   1506  0\n",
       "...     ...       ...    ...       ...       ...    ... ..\n",
       "5996      3  0.206522  308.5  0.693498  0.683794   1487  0\n",
       "5997      4  0.445652  309.2 -0.099004  0.102767   1564  0\n",
       "5998      4  0.445652  308.7  2.298564  0.529644   1446  1\n",
       "5999      4  0.836957  312.3 -1.814418  0.521739   1932  0\n",
       "6000      4  0.423913  310.7 -0.369858  0.691700   1540  0\n",
       "\n",
       "[6000 rows x 7 columns]"
      ]
     },
     "execution_count": 12,
     "metadata": {},
     "output_type": "execute_result"
    }
   ],
   "source": [
    "train_dataset"
   ]
  },
  {
   "cell_type": "code",
   "execution_count": 13,
   "id": "d8220905",
   "metadata": {},
   "outputs": [
    {
     "data": {
      "text/html": [
       "<div>\n",
       "<style scoped>\n",
       "    .dataframe tbody tr th:only-of-type {\n",
       "        vertical-align: middle;\n",
       "    }\n",
       "\n",
       "    .dataframe tbody tr th {\n",
       "        vertical-align: top;\n",
       "    }\n",
       "\n",
       "    .dataframe thead th {\n",
       "        text-align: right;\n",
       "    }\n",
       "</style>\n",
       "<table border=\"1\" class=\"dataframe\">\n",
       "  <thead>\n",
       "    <tr style=\"text-align: right;\">\n",
       "      <th></th>\n",
       "      <th>col_0</th>\n",
       "      <th>col_1</th>\n",
       "      <th>col_2</th>\n",
       "      <th>col_3</th>\n",
       "      <th>col_4</th>\n",
       "      <th>col_5</th>\n",
       "      <th>y</th>\n",
       "    </tr>\n",
       "  </thead>\n",
       "  <tbody>\n",
       "    <tr>\n",
       "      <th>count</th>\n",
       "      <td>6000.000000</td>\n",
       "      <td>6000.000000</td>\n",
       "      <td>6000.000000</td>\n",
       "      <td>6000.000000</td>\n",
       "      <td>6000.000000</td>\n",
       "      <td>6000.000000</td>\n",
       "      <td>6000.000000</td>\n",
       "    </tr>\n",
       "    <tr>\n",
       "      <th>mean</th>\n",
       "      <td>3.745167</td>\n",
       "      <td>0.515467</td>\n",
       "      <td>310.033500</td>\n",
       "      <td>-0.001252</td>\n",
       "      <td>0.426462</td>\n",
       "      <td>1539.270833</td>\n",
       "      <td>0.105167</td>\n",
       "    </tr>\n",
       "    <tr>\n",
       "      <th>std</th>\n",
       "      <td>0.733473</td>\n",
       "      <td>0.217382</td>\n",
       "      <td>1.476985</td>\n",
       "      <td>1.002851</td>\n",
       "      <td>0.251926</td>\n",
       "      <td>181.277115</td>\n",
       "      <td>0.628893</td>\n",
       "    </tr>\n",
       "    <tr>\n",
       "      <th>min</th>\n",
       "      <td>0.000000</td>\n",
       "      <td>0.010870</td>\n",
       "      <td>305.800000</td>\n",
       "      <td>-3.630149</td>\n",
       "      <td>0.000000</td>\n",
       "      <td>1168.000000</td>\n",
       "      <td>0.000000</td>\n",
       "    </tr>\n",
       "    <tr>\n",
       "      <th>25%</th>\n",
       "      <td>3.000000</td>\n",
       "      <td>0.336957</td>\n",
       "      <td>308.900000</td>\n",
       "      <td>-0.680840</td>\n",
       "      <td>0.212451</td>\n",
       "      <td>1422.000000</td>\n",
       "      <td>0.000000</td>\n",
       "    </tr>\n",
       "    <tr>\n",
       "      <th>50%</th>\n",
       "      <td>4.000000</td>\n",
       "      <td>0.521739</td>\n",
       "      <td>310.100000</td>\n",
       "      <td>0.011345</td>\n",
       "      <td>0.426877</td>\n",
       "      <td>1503.000000</td>\n",
       "      <td>0.000000</td>\n",
       "    </tr>\n",
       "    <tr>\n",
       "      <th>75%</th>\n",
       "      <td>4.000000</td>\n",
       "      <td>0.673913</td>\n",
       "      <td>311.100000</td>\n",
       "      <td>0.675943</td>\n",
       "      <td>0.640316</td>\n",
       "      <td>1614.000000</td>\n",
       "      <td>0.000000</td>\n",
       "    </tr>\n",
       "    <tr>\n",
       "      <th>max</th>\n",
       "      <td>5.000000</td>\n",
       "      <td>1.000000</td>\n",
       "      <td>313.800000</td>\n",
       "      <td>3.552522</td>\n",
       "      <td>1.000000</td>\n",
       "      <td>2886.000000</td>\n",
       "      <td>5.000000</td>\n",
       "    </tr>\n",
       "  </tbody>\n",
       "</table>\n",
       "</div>"
      ],
      "text/plain": [
       "             col_0        col_1        col_2        col_3        col_4  \\\n",
       "count  6000.000000  6000.000000  6000.000000  6000.000000  6000.000000   \n",
       "mean      3.745167     0.515467   310.033500    -0.001252     0.426462   \n",
       "std       0.733473     0.217382     1.476985     1.002851     0.251926   \n",
       "min       0.000000     0.010870   305.800000    -3.630149     0.000000   \n",
       "25%       3.000000     0.336957   308.900000    -0.680840     0.212451   \n",
       "50%       4.000000     0.521739   310.100000     0.011345     0.426877   \n",
       "75%       4.000000     0.673913   311.100000     0.675943     0.640316   \n",
       "max       5.000000     1.000000   313.800000     3.552522     1.000000   \n",
       "\n",
       "             col_5            y  \n",
       "count  6000.000000  6000.000000  \n",
       "mean   1539.270833     0.105167  \n",
       "std     181.277115     0.628893  \n",
       "min    1168.000000     0.000000  \n",
       "25%    1422.000000     0.000000  \n",
       "50%    1503.000000     0.000000  \n",
       "75%    1614.000000     0.000000  \n",
       "max    2886.000000     5.000000  "
      ]
     },
     "execution_count": 13,
     "metadata": {},
     "output_type": "execute_result"
    }
   ],
   "source": [
    "# describe the dataset\n",
    "train_dataset.describe()"
   ]
  },
  {
   "cell_type": "markdown",
   "id": "ceaf29fa",
   "metadata": {},
   "source": [
    "#### Correlation matrix"
   ]
  },
  {
   "cell_type": "code",
   "execution_count": 14,
   "id": "be202a9c",
   "metadata": {},
   "outputs": [
    {
     "data": {
      "image/png": "[encoded data removed]",
      "text/plain": [
       "<Figure size 1152x576 with 2 Axes>"
      ]
     },
     "metadata": {
      "needs_background": "light"
     },
     "output_type": "display_data"
    }
   ],
   "source": [
    "plt.figure(figsize=(16, 8))\n",
    "sns.heatmap(train_dataset.corr(), annot=True, cmap='terrain')\n",
    "plt.show()"
   ]
  },
  {
   "cell_type": "code",
   "execution_count": null,
   "id": "fcfddbee",
   "metadata": {},
   "outputs": [],
   "source": []
  },
  {
   "cell_type": "markdown",
   "id": "3b2b9755",
   "metadata": {},
   "source": [
    "#### Split the training data into features and target"
   ]
  },
  {
   "cell_type": "code",
   "execution_count": 15,
   "id": "e56dee7e",
   "metadata": {},
   "outputs": [],
   "source": [
    "x = train_dataset.iloc[:,:-1]\n",
    "y = train_dataset.iloc[:,-1]"
   ]
  },
  {
   "cell_type": "code",
   "execution_count": 16,
   "id": "2d973320",
   "metadata": {},
   "outputs": [
    {
     "data": {
      "text/plain": [
       "0    5791\n",
       "5      67\n",
       "1      57\n",
       "3      47\n",
       "2      27\n",
       "4      11\n",
       "Name: y, dtype: int64"
      ]
     },
     "execution_count": 16,
     "metadata": {},
     "output_type": "execute_result"
    }
   ],
   "source": [
    "y.value_counts()"
   ]
  },
  {
   "cell_type": "code",
   "execution_count": 17,
   "id": "2d44d5c5",
   "metadata": {},
   "outputs": [],
   "source": [
    "#from imblearn.over_sampling import RandomOverSampler\n",
    "#r_oversample = RandomOverSampler(random_state=42)\n",
    "#x_resampled, y_resampled = r_oversample.fit_resample(x, y)"
   ]
  },
  {
   "cell_type": "code",
   "execution_count": 18,
   "id": "a304f2fb",
   "metadata": {},
   "outputs": [],
   "source": [
    "#from collections import Counter\n",
    "#print('Original dataset shape {}'.format(Counter(y)))\n",
    "#print('Resampled dataset shape {}'.format(Counter(y_resampled)))"
   ]
  },
  {
   "cell_type": "code",
   "execution_count": 19,
   "id": "344bc672",
   "metadata": {},
   "outputs": [
    {
     "data": {
      "text/plain": [
       "0    5791\n",
       "5      67\n",
       "1      57\n",
       "3      47\n",
       "2      27\n",
       "4      11\n",
       "Name: y, dtype: int64"
      ]
     },
     "execution_count": 19,
     "metadata": {},
     "output_type": "execute_result"
    }
   ],
   "source": [
    "y.value_counts()"
   ]
  },
  {
   "cell_type": "markdown",
   "id": "8baf67c9",
   "metadata": {},
   "source": [
    "#### Train test split"
   ]
  },
  {
   "cell_type": "code",
   "execution_count": 20,
   "id": "a80d1637",
   "metadata": {},
   "outputs": [],
   "source": [
    "from sklearn.metrics import confusion_matrix, classification_report\n",
    "from sklearn.model_selection import train_test_split, cross_val_score"
   ]
  },
  {
   "cell_type": "markdown",
   "id": "836953d1",
   "metadata": {},
   "source": [
    "#### Perform oversampling"
   ]
  },
  {
   "cell_type": "code",
   "execution_count": 21,
   "id": "e5f56c58",
   "metadata": {},
   "outputs": [],
   "source": [
    "xtrain, xtest, ytrain, ytest = train_test_split(x, y, test_size = 0.2, random_state = 42)"
   ]
  },
  {
   "cell_type": "code",
   "execution_count": 22,
   "id": "ac11250d",
   "metadata": {},
   "outputs": [
    {
     "data": {
      "text/plain": [
       "(4800, 6)"
      ]
     },
     "execution_count": 22,
     "metadata": {},
     "output_type": "execute_result"
    }
   ],
   "source": [
    "xtrain.shape"
   ]
  },
  {
   "cell_type": "code",
   "execution_count": 23,
   "id": "6daa4a64",
   "metadata": {},
   "outputs": [
    {
     "data": {
      "text/plain": [
       "(4800,)"
      ]
     },
     "execution_count": 23,
     "metadata": {},
     "output_type": "execute_result"
    }
   ],
   "source": [
    "ytrain.shape"
   ]
  },
  {
   "cell_type": "code",
   "execution_count": 24,
   "id": "cebaaa0e",
   "metadata": {},
   "outputs": [
    {
     "data": {
      "text/plain": [
       "(1200, 6)"
      ]
     },
     "execution_count": 24,
     "metadata": {},
     "output_type": "execute_result"
    }
   ],
   "source": [
    "xtest.shape"
   ]
  },
  {
   "cell_type": "code",
   "execution_count": 25,
   "id": "99a28fc2",
   "metadata": {},
   "outputs": [
    {
     "data": {
      "text/plain": [
       "(1200,)"
      ]
     },
     "execution_count": 25,
     "metadata": {},
     "output_type": "execute_result"
    }
   ],
   "source": [
    "ytest.shape"
   ]
  },
  {
   "cell_type": "markdown",
   "id": "6c4f3024",
   "metadata": {},
   "source": [
    "#### Normalize the data for numerical features"
   ]
  },
  {
   "cell_type": "code",
   "execution_count": 26,
   "id": "1cc7a63b",
   "metadata": {},
   "outputs": [],
   "source": [
    "from sklearn.preprocessing import StandardScaler\n",
    "xtrain_scaled = StandardScaler().fit_transform(xtrain)\n",
    "xtest_scaled = StandardScaler().fit_transform(xtest)"
   ]
  },
  {
   "cell_type": "code",
   "execution_count": 27,
   "id": "3e828668",
   "metadata": {},
   "outputs": [],
   "source": [
    "from imblearn.over_sampling import RandomOverSampler\n",
    "r_oversample = RandomOverSampler(random_state=42)\n",
    "x_resampled, y_resampled = r_oversample.fit_resample(xtrain_scaled, ytrain)"
   ]
  },
  {
   "cell_type": "code",
   "execution_count": 28,
   "id": "c8e27a61",
   "metadata": {},
   "outputs": [
    {
     "name": "stdout",
     "output_type": "stream",
     "text": [
      "Original dataset shape Counter({0: 5791, 5: 67, 1: 57, 3: 47, 2: 27, 4: 11})\n",
      "Resampled dataset shape Counter({0: 4633, 1: 4633, 2: 4633, 3: 4633, 4: 4633, 5: 4633})\n"
     ]
    }
   ],
   "source": [
    "from collections import Counter\n",
    "print('Original dataset shape {}'.format(Counter(y)))\n",
    "print('Resampled dataset shape {}'.format(Counter(y_resampled)))"
   ]
  },
  {
   "cell_type": "code",
   "execution_count": null,
   "id": "693accf9",
   "metadata": {},
   "outputs": [],
   "source": [
    "from imblearn.over_sampling import SMOTE\n",
    "\n",
    "smote = SMOTE(random_state=42)\n",
    "X_resampled, Y_resampled = smote.fit_resample(xtrain_scaled, ytrain)"
   ]
  },
  {
   "cell_type": "code",
   "execution_count": null,
   "id": "7390f57c",
   "metadata": {},
   "outputs": [],
   "source": []
  },
  {
   "cell_type": "markdown",
   "id": "6febb00c",
   "metadata": {},
   "source": [
    "## Model training"
   ]
  },
  {
   "cell_type": "markdown",
   "id": "861b57aa",
   "metadata": {},
   "source": [
    "#### Random Forest"
   ]
  },
  {
   "cell_type": "code",
   "execution_count": 29,
   "id": "93836d9d",
   "metadata": {},
   "outputs": [],
   "source": [
    "from sklearn.ensemble import RandomForestClassifier\n",
    "from sklearn.metrics import accuracy_score"
   ]
  },
  {
   "cell_type": "code",
   "execution_count": 30,
   "id": "61a7d77d",
   "metadata": {},
   "outputs": [
    {
     "data": {
      "text/html": [
       "<style>#sk-container-id-1 {color: black;background-color: white;}#sk-container-id-1 pre{padding: 0;}#sk-container-id-1 div.sk-toggleable {background-color: white;}#sk-container-id-1 label.sk-toggleable__label {cursor: pointer;display: block;width: 100%;margin-bottom: 0;padding: 0.3em;box-sizing: border-box;text-align: center;}#sk-container-id-1 label.sk-toggleable__label-arrow:before {content: \"▸\";float: left;margin-right: 0.25em;color: #696969;}#sk-container-id-1 label.sk-toggleable__label-arrow:hover:before {color: black;}#sk-container-id-1 div.sk-estimator:hover label.sk-toggleable__label-arrow:before {color: black;}#sk-container-id-1 div.sk-toggleable__content {max-height: 0;max-width: 0;overflow: hidden;text-align: left;background-color: #f0f8ff;}#sk-container-id-1 div.sk-toggleable__content pre {margin: 0.2em;color: black;border-radius: 0.25em;background-color: #f0f8ff;}#sk-container-id-1 input.sk-toggleable__control:checked~div.sk-toggleable__content {max-height: 200px;max-width: 100%;overflow: auto;}#sk-container-id-1 input.sk-toggleable__control:checked~label.sk-toggleable__label-arrow:before {content: \"▾\";}#sk-container-id-1 div.sk-estimator input.sk-toggleable__control:checked~label.sk-toggleable__label {background-color: #d4ebff;}#sk-container-id-1 div.sk-label input.sk-toggleable__control:checked~label.sk-toggleable__label {background-color: #d4ebff;}#sk-container-id-1 input.sk-hidden--visually {border: 0;clip: rect(1px 1px 1px 1px);clip: rect(1px, 1px, 1px, 1px);height: 1px;margin: -1px;overflow: hidden;padding: 0;position: absolute;width: 1px;}#sk-container-id-1 div.sk-estimator {font-family: monospace;background-color: #f0f8ff;border: 1px dotted black;border-radius: 0.25em;box-sizing: border-box;margin-bottom: 0.5em;}#sk-container-id-1 div.sk-estimator:hover {background-color: #d4ebff;}#sk-container-id-1 div.sk-parallel-item::after {content: \"\";width: 100%;border-bottom: 1px solid gray;flex-grow: 1;}#sk-container-id-1 div.sk-label:hover label.sk-toggleable__label {background-color: #d4ebff;}#sk-container-id-1 div.sk-serial::before {content: \"\";position: absolute;border-left: 1px solid gray;box-sizing: border-box;top: 0;bottom: 0;left: 50%;z-index: 0;}#sk-container-id-1 div.sk-serial {display: flex;flex-direction: column;align-items: center;background-color: white;padding-right: 0.2em;padding-left: 0.2em;position: relative;}#sk-container-id-1 div.sk-item {position: relative;z-index: 1;}#sk-container-id-1 div.sk-parallel {display: flex;align-items: stretch;justify-content: center;background-color: white;position: relative;}#sk-container-id-1 div.sk-item::before, #sk-container-id-1 div.sk-parallel-item::before {content: \"\";position: absolute;border-left: 1px solid gray;box-sizing: border-box;top: 0;bottom: 0;left: 50%;z-index: -1;}#sk-container-id-1 div.sk-parallel-item {display: flex;flex-direction: column;z-index: 1;position: relative;background-color: white;}#sk-container-id-1 div.sk-parallel-item:first-child::after {align-self: flex-end;width: 50%;}#sk-container-id-1 div.sk-parallel-item:last-child::after {align-self: flex-start;width: 50%;}#sk-container-id-1 div.sk-parallel-item:only-child::after {width: 0;}#sk-container-id-1 div.sk-dashed-wrapped {border: 1px dashed gray;margin: 0 0.4em 0.5em 0.4em;box-sizing: border-box;padding-bottom: 0.4em;background-color: white;}#sk-container-id-1 div.sk-label label {font-family: monospace;font-weight: bold;display: inline-block;line-height: 1.2em;}#sk-container-id-1 div.sk-label-container {text-align: center;}#sk-container-id-1 div.sk-container {/* jupyter's `normalize.less` sets `[hidden] { display: none; }` but bootstrap.min.css set `[hidden] { display: none !important; }` so we also need the `!important` here to be able to override the default hidden behavior on the sphinx rendered scikit-learn.org. See: https://github.com/scikit-learn/scikit-learn/issues/21755 */display: inline-block !important;position: relative;}#sk-container-id-1 div.sk-text-repr-fallback {display: none;}</style><div id=\"sk-container-id-1\" class=\"sk-top-container\"><div class=\"sk-text-repr-fallback\"><pre>RandomForestClassifier(random_state=42)</pre><b>In a Jupyter environment, please rerun this cell to show the HTML representation or trust the notebook. <br />On GitHub, the HTML representation is unable to render, please try loading this page with nbviewer.org.</b></div><div class=\"sk-container\" hidden><div class=\"sk-item\"><div class=\"sk-estimator sk-toggleable\"><input class=\"sk-toggleable__control sk-hidden--visually\" id=\"sk-estimator-id-1\" type=\"checkbox\" checked><label for=\"sk-estimator-id-1\" class=\"sk-toggleable__label sk-toggleable__label-arrow\">RandomForestClassifier</label><div class=\"sk-toggleable__content\"><pre>RandomForestClassifier(random_state=42)</pre></div></div></div></div></div>"
      ],
      "text/plain": [
       "RandomForestClassifier(random_state=42)"
      ]
     },
     "execution_count": 30,
     "metadata": {},
     "output_type": "execute_result"
    }
   ],
   "source": [
    "rf_model = RandomForestClassifier(n_estimators=100, random_state=42)\n",
    "rf_model.fit(x_resampled, y_resampled)"
   ]
  },
  {
   "cell_type": "code",
   "execution_count": 31,
   "id": "0c5c4e4b",
   "metadata": {},
   "outputs": [
    {
     "name": "stdout",
     "output_type": "stream",
     "text": [
      "              precision    recall  f1-score   support\n",
      "\n",
      "           0       0.97      0.99      0.98      1158\n",
      "           1       0.25      0.43      0.32         7\n",
      "           2       0.00      0.00      0.00        10\n",
      "           3       0.00      0.00      0.00         8\n",
      "           5       0.00      0.00      0.00        17\n",
      "\n",
      "    accuracy                           0.96      1200\n",
      "   macro avg       0.24      0.28      0.26      1200\n",
      "weighted avg       0.94      0.96      0.95      1200\n",
      "\n"
     ]
    }
   ],
   "source": [
    "y_predict = rf_model.predict(xtest)\n",
    "#accuracy = accuracy_score(ytest, y_pred)\n",
    "#print(\"RF Model Accuracy is \", accuracy)\n",
    "print(\"Random Forest\")\n",
    "print(classification_report(ytest, y_predict))"
   ]
  },
  {
   "cell_type": "code",
   "execution_count": 32,
   "id": "6ef49536",
   "metadata": {},
   "outputs": [
    {
     "data": {
      "text/plain": [
       "<AxesSubplot:>"
      ]
     },
     "execution_count": 32,
     "metadata": {},
     "output_type": "execute_result"
    },
    {
     "data": {
      "image/png": "[encoded data removed]",
      "text/plain": [
       "<Figure size 432x288 with 2 Axes>"
      ]
     },
     "metadata": {
      "needs_background": "light"
     },
     "output_type": "display_data"
    }
   ],
   "source": [
    "cm = confusion_matrix(ytest, y_predict)\n",
    "sns.heatmap(cm, annot=True, fmt = 'g')"
   ]
  },
  {
   "cell_type": "markdown",
   "id": "971fec8e",
   "metadata": {},
   "source": [
    "#### SVM"
   ]
  },
  {
   "cell_type": "code",
   "execution_count": 58,
   "id": "9a8cedd5",
   "metadata": {},
   "outputs": [
    {
     "name": "stdout",
     "output_type": "stream",
     "text": [
      "SVM - Support Vector Machine\n",
      "              precision    recall  f1-score   support\n",
      "\n",
      "           0       0.96      1.00      0.98      1158\n",
      "           1       0.00      0.00      0.00         7\n",
      "           2       0.00      0.00      0.00        10\n",
      "           3       0.00      0.00      0.00         8\n",
      "           5       0.00      0.00      0.00        17\n",
      "\n",
      "    accuracy                           0.96      1200\n",
      "   macro avg       0.19      0.20      0.20      1200\n",
      "weighted avg       0.93      0.96      0.95      1200\n",
      "\n"
     ]
    }
   ],
   "source": [
    "from sklearn.svm import SVC\n",
    "svm_model = SVC()\n",
    "svm_model.fit(x_resampled, y_resampled)\n",
    "y_predict_svm = svm_model.predict(xtest)\n",
    "print(\"SVM - Support Vector Machine\")\n",
    "print(classification_report(ytest, y_predict_svm))"
   ]
  },
  {
   "cell_type": "code",
   "execution_count": 59,
   "id": "1acee709",
   "metadata": {},
   "outputs": [
    {
     "data": {
      "text/plain": [
       "<AxesSubplot:>"
      ]
     },
     "execution_count": 59,
     "metadata": {},
     "output_type": "execute_result"
    },
    {
     "data": {
      "image/png": "[encoded data removed]",
      "text/plain": [
       "<Figure size 432x288 with 2 Axes>"
      ]
     },
     "metadata": {
      "needs_background": "light"
     },
     "output_type": "display_data"
    }
   ],
   "source": [
    "cm = confusion_matrix(ytest, y_predict_svm)\n",
    "sns.heatmap(cm, annot=True, fmt = 'g')"
   ]
  },
  {
   "cell_type": "markdown",
   "id": "531f7ebd",
   "metadata": {},
   "source": [
    "#### Decision Tree"
   ]
  },
  {
   "cell_type": "code",
   "execution_count": 61,
   "id": "4bcebe6a",
   "metadata": {},
   "outputs": [
    {
     "name": "stdout",
     "output_type": "stream",
     "text": [
      "              precision    recall  f1-score   support\n",
      "\n",
      "           0       0.97      0.98      0.97      1158\n",
      "           1       0.12      0.57      0.20         7\n",
      "           2       0.00      0.00      0.00        10\n",
      "           3       0.00      0.00      0.00         8\n",
      "           5       0.00      0.00      0.00        17\n",
      "\n",
      "    accuracy                           0.95      1200\n",
      "   macro avg       0.22      0.31      0.23      1200\n",
      "weighted avg       0.94      0.95      0.94      1200\n",
      "\n"
     ]
    }
   ],
   "source": [
    "from sklearn.tree import DecisionTreeClassifier\n",
    "dt = DecisionTreeClassifier()\n",
    "dt.fit(x_resampled, y_resampled)\n",
    "y_predict_dt = dt.predict(xtest)\n",
    "print(classification_report(ytest, y_predict_dt))"
   ]
  },
  {
   "cell_type": "markdown",
   "id": "3cf47ee1",
   "metadata": {},
   "source": [
    "## Make Prediction on Test Dataset"
   ]
  },
  {
   "cell_type": "code",
   "execution_count": 33,
   "id": "5282c225",
   "metadata": {},
   "outputs": [
    {
     "name": "stdout",
     "output_type": "stream",
     "text": [
      "<class 'pandas.core.frame.DataFrame'>\n",
      "Int64Index: 4000 entries, 6001 to 10000\n",
      "Data columns (total 6 columns):\n",
      " #   Column  Non-Null Count  Dtype  \n",
      "---  ------  --------------  -----  \n",
      " 0   col_0   4000 non-null   object \n",
      " 1   col_1   4000 non-null   float64\n",
      " 2   col_2   4000 non-null   float64\n",
      " 3   col_3   4000 non-null   float64\n",
      " 4   col_4   4000 non-null   float64\n",
      " 5   col_5   4000 non-null   int64  \n",
      "dtypes: float64(4), int64(1), object(1)\n",
      "memory usage: 218.8+ KB\n"
     ]
    }
   ],
   "source": [
    "test_dataset.info()"
   ]
  },
  {
   "cell_type": "code",
   "execution_count": 34,
   "id": "66c26487",
   "metadata": {},
   "outputs": [
    {
     "data": {
      "text/plain": [
       "col_0    0\n",
       "col_1    0\n",
       "col_2    0\n",
       "col_3    0\n",
       "col_4    0\n",
       "col_5    0\n",
       "dtype: int64"
      ]
     },
     "execution_count": 34,
     "metadata": {},
     "output_type": "execute_result"
    }
   ],
   "source": [
    "test_dataset.isnull().sum()"
   ]
  },
  {
   "cell_type": "code",
   "execution_count": 35,
   "id": "eb059a93",
   "metadata": {},
   "outputs": [],
   "source": [
    "index_column = test_dataset.index"
   ]
  },
  {
   "cell_type": "markdown",
   "id": "c7e3e94c",
   "metadata": {},
   "source": [
    "#### Label encoding"
   ]
  },
  {
   "cell_type": "code",
   "execution_count": 36,
   "id": "bb4620d8",
   "metadata": {},
   "outputs": [],
   "source": [
    "from sklearn.preprocessing import LabelEncoder\n",
    "labelencoder_Y = LabelEncoder()\n",
    "test_dataset['col_0'] = labelencoder_Y.fit_transform(test_dataset['col_0'])"
   ]
  },
  {
   "cell_type": "code",
   "execution_count": 37,
   "id": "403fda26",
   "metadata": {},
   "outputs": [
    {
     "data": {
      "text/html": [
       "<div>\n",
       "<style scoped>\n",
       "    .dataframe tbody tr th:only-of-type {\n",
       "        vertical-align: middle;\n",
       "    }\n",
       "\n",
       "    .dataframe tbody tr th {\n",
       "        vertical-align: top;\n",
       "    }\n",
       "\n",
       "    .dataframe thead th {\n",
       "        text-align: right;\n",
       "    }\n",
       "</style>\n",
       "<table border=\"1\" class=\"dataframe\">\n",
       "  <thead>\n",
       "    <tr style=\"text-align: right;\">\n",
       "      <th></th>\n",
       "      <th>col_0</th>\n",
       "      <th>col_1</th>\n",
       "      <th>col_2</th>\n",
       "      <th>col_3</th>\n",
       "      <th>col_4</th>\n",
       "      <th>col_5</th>\n",
       "    </tr>\n",
       "    <tr>\n",
       "      <th>ID</th>\n",
       "      <th></th>\n",
       "      <th></th>\n",
       "      <th></th>\n",
       "      <th></th>\n",
       "      <th></th>\n",
       "      <th></th>\n",
       "    </tr>\n",
       "  </thead>\n",
       "  <tbody>\n",
       "    <tr>\n",
       "      <th>6001</th>\n",
       "      <td>4</td>\n",
       "      <td>0.434783</td>\n",
       "      <td>309.0</td>\n",
       "      <td>1.044606</td>\n",
       "      <td>0.553360</td>\n",
       "      <td>1447</td>\n",
       "    </tr>\n",
       "    <tr>\n",
       "      <th>6002</th>\n",
       "      <td>3</td>\n",
       "      <td>0.423913</td>\n",
       "      <td>310.8</td>\n",
       "      <td>-0.018750</td>\n",
       "      <td>0.699605</td>\n",
       "      <td>1502</td>\n",
       "    </tr>\n",
       "    <tr>\n",
       "      <th>6003</th>\n",
       "      <td>4</td>\n",
       "      <td>0.489130</td>\n",
       "      <td>311.1</td>\n",
       "      <td>0.733625</td>\n",
       "      <td>0.743083</td>\n",
       "      <td>1452</td>\n",
       "    </tr>\n",
       "    <tr>\n",
       "      <th>6004</th>\n",
       "      <td>5</td>\n",
       "      <td>0.380435</td>\n",
       "      <td>309.8</td>\n",
       "      <td>-0.409985</td>\n",
       "      <td>0.675889</td>\n",
       "      <td>1490</td>\n",
       "    </tr>\n",
       "    <tr>\n",
       "      <th>6005</th>\n",
       "      <td>3</td>\n",
       "      <td>0.608696</td>\n",
       "      <td>310.7</td>\n",
       "      <td>-1.272708</td>\n",
       "      <td>0.300395</td>\n",
       "      <td>1696</td>\n",
       "    </tr>\n",
       "    <tr>\n",
       "      <th>...</th>\n",
       "      <td>...</td>\n",
       "      <td>...</td>\n",
       "      <td>...</td>\n",
       "      <td>...</td>\n",
       "      <td>...</td>\n",
       "      <td>...</td>\n",
       "    </tr>\n",
       "    <tr>\n",
       "      <th>9996</th>\n",
       "      <td>1</td>\n",
       "      <td>0.663043</td>\n",
       "      <td>311.0</td>\n",
       "      <td>-1.162360</td>\n",
       "      <td>0.501976</td>\n",
       "      <td>1701</td>\n",
       "    </tr>\n",
       "    <tr>\n",
       "      <th>9997</th>\n",
       "      <td>4</td>\n",
       "      <td>0.532609</td>\n",
       "      <td>310.3</td>\n",
       "      <td>-0.129098</td>\n",
       "      <td>0.189723</td>\n",
       "      <td>1514</td>\n",
       "    </tr>\n",
       "    <tr>\n",
       "      <th>9998</th>\n",
       "      <td>4</td>\n",
       "      <td>0.413043</td>\n",
       "      <td>310.4</td>\n",
       "      <td>-0.901537</td>\n",
       "      <td>0.509881</td>\n",
       "      <td>1657</td>\n",
       "    </tr>\n",
       "    <tr>\n",
       "      <th>9999</th>\n",
       "      <td>4</td>\n",
       "      <td>0.184783</td>\n",
       "      <td>308.3</td>\n",
       "      <td>1.907329</td>\n",
       "      <td>0.533597</td>\n",
       "      <td>1399</td>\n",
       "    </tr>\n",
       "    <tr>\n",
       "      <th>10000</th>\n",
       "      <td>5</td>\n",
       "      <td>0.347826</td>\n",
       "      <td>309.4</td>\n",
       "      <td>0.673435</td>\n",
       "      <td>0.403162</td>\n",
       "      <td>1414</td>\n",
       "    </tr>\n",
       "  </tbody>\n",
       "</table>\n",
       "<p>4000 rows × 6 columns</p>\n",
       "</div>"
      ],
      "text/plain": [
       "       col_0     col_1  col_2     col_3     col_4  col_5\n",
       "ID                                                      \n",
       "6001       4  0.434783  309.0  1.044606  0.553360   1447\n",
       "6002       3  0.423913  310.8 -0.018750  0.699605   1502\n",
       "6003       4  0.489130  311.1  0.733625  0.743083   1452\n",
       "6004       5  0.380435  309.8 -0.409985  0.675889   1490\n",
       "6005       3  0.608696  310.7 -1.272708  0.300395   1696\n",
       "...      ...       ...    ...       ...       ...    ...\n",
       "9996       1  0.663043  311.0 -1.162360  0.501976   1701\n",
       "9997       4  0.532609  310.3 -0.129098  0.189723   1514\n",
       "9998       4  0.413043  310.4 -0.901537  0.509881   1657\n",
       "9999       4  0.184783  308.3  1.907329  0.533597   1399\n",
       "10000      5  0.347826  309.4  0.673435  0.403162   1414\n",
       "\n",
       "[4000 rows x 6 columns]"
      ]
     },
     "execution_count": 37,
     "metadata": {},
     "output_type": "execute_result"
    }
   ],
   "source": [
    "test_dataset"
   ]
  },
  {
   "cell_type": "code",
   "execution_count": 38,
   "id": "f23310b1",
   "metadata": {},
   "outputs": [],
   "source": [
    "test_dataset_scaled = StandardScaler().fit_transform(test_dataset)"
   ]
  },
  {
   "cell_type": "markdown",
   "id": "2c0a3750",
   "metadata": {},
   "source": [
    "### Prediction results"
   ]
  },
  {
   "cell_type": "markdown",
   "id": "1b9b42c9",
   "metadata": {},
   "source": [
    "##### Random Forest"
   ]
  },
  {
   "cell_type": "code",
   "execution_count": 39,
   "id": "ad04d69f",
   "metadata": {},
   "outputs": [],
   "source": [
    "y_predict_test = rf_model.predict(test_dataset_scaled)"
   ]
  },
  {
   "cell_type": "code",
   "execution_count": 40,
   "id": "26fd5915",
   "metadata": {},
   "outputs": [
    {
     "name": "stdout",
     "output_type": "stream",
     "text": [
      "[0 0 0 ... 0 0 0]\n"
     ]
    }
   ],
   "source": [
    "print(y_predict_test)"
   ]
  },
  {
   "cell_type": "code",
   "execution_count": 41,
   "id": "c07badba",
   "metadata": {},
   "outputs": [],
   "source": [
    "#test_dataset['y'] = y_pred"
   ]
  },
  {
   "cell_type": "code",
   "execution_count": 49,
   "id": "e4a4a150",
   "metadata": {},
   "outputs": [
    {
     "data": {
      "text/html": [
       "<div>\n",
       "<style scoped>\n",
       "    .dataframe tbody tr th:only-of-type {\n",
       "        vertical-align: middle;\n",
       "    }\n",
       "\n",
       "    .dataframe tbody tr th {\n",
       "        vertical-align: top;\n",
       "    }\n",
       "\n",
       "    .dataframe thead th {\n",
       "        text-align: right;\n",
       "    }\n",
       "</style>\n",
       "<table border=\"1\" class=\"dataframe\">\n",
       "  <thead>\n",
       "    <tr style=\"text-align: right;\">\n",
       "      <th></th>\n",
       "      <th>y</th>\n",
       "    </tr>\n",
       "  </thead>\n",
       "  <tbody>\n",
       "    <tr>\n",
       "      <th>0</th>\n",
       "      <td>0</td>\n",
       "    </tr>\n",
       "    <tr>\n",
       "      <th>1</th>\n",
       "      <td>0</td>\n",
       "    </tr>\n",
       "    <tr>\n",
       "      <th>2</th>\n",
       "      <td>0</td>\n",
       "    </tr>\n",
       "    <tr>\n",
       "      <th>3</th>\n",
       "      <td>0</td>\n",
       "    </tr>\n",
       "    <tr>\n",
       "      <th>4</th>\n",
       "      <td>0</td>\n",
       "    </tr>\n",
       "    <tr>\n",
       "      <th>...</th>\n",
       "      <td>...</td>\n",
       "    </tr>\n",
       "    <tr>\n",
       "      <th>3995</th>\n",
       "      <td>0</td>\n",
       "    </tr>\n",
       "    <tr>\n",
       "      <th>3996</th>\n",
       "      <td>0</td>\n",
       "    </tr>\n",
       "    <tr>\n",
       "      <th>3997</th>\n",
       "      <td>0</td>\n",
       "    </tr>\n",
       "    <tr>\n",
       "      <th>3998</th>\n",
       "      <td>0</td>\n",
       "    </tr>\n",
       "    <tr>\n",
       "      <th>3999</th>\n",
       "      <td>0</td>\n",
       "    </tr>\n",
       "  </tbody>\n",
       "</table>\n",
       "<p>4000 rows × 1 columns</p>\n",
       "</div>"
      ],
      "text/plain": [
       "      y\n",
       "0     0\n",
       "1     0\n",
       "2     0\n",
       "3     0\n",
       "4     0\n",
       "...  ..\n",
       "3995  0\n",
       "3996  0\n",
       "3997  0\n",
       "3998  0\n",
       "3999  0\n",
       "\n",
       "[4000 rows x 1 columns]"
      ]
     },
     "execution_count": 49,
     "metadata": {},
     "output_type": "execute_result"
    }
   ],
   "source": [
    "predict_y_col = pd.DataFrame({'y': y_predict_test})\n",
    "predict_y_col.to_csv('y_predict_test.csv', index=False)\n",
    "predict_y = pd.read_csv('y_predict_test.csv')\n",
    "predict_y"
   ]
  },
  {
   "cell_type": "markdown",
   "id": "f46ce1b6",
   "metadata": {},
   "source": [
    "#### F1 Score - Random Forest"
   ]
  },
  {
   "cell_type": "code",
   "execution_count": 51,
   "id": "a967e601",
   "metadata": {},
   "outputs": [
    {
     "name": "stdout",
     "output_type": "stream",
     "text": [
      "F1 Score: 1.0\n"
     ]
    }
   ],
   "source": [
    "from sklearn.metrics import f1_score\n",
    "f1_scores = f1_score(predict_y, y_predict_test, average='weighted')\n",
    "print(f\"F1 Score: {f1_scores}\")"
   ]
  },
  {
   "cell_type": "markdown",
   "id": "d2a26044",
   "metadata": {},
   "source": [
    "### SVM - Predict on test data"
   ]
  },
  {
   "cell_type": "code",
   "execution_count": 63,
   "id": "64b217d6",
   "metadata": {},
   "outputs": [
    {
     "data": {
      "text/plain": [
       "array([0, 0, 0, ..., 0, 1, 0])"
      ]
     },
     "execution_count": 63,
     "metadata": {},
     "output_type": "execute_result"
    }
   ],
   "source": [
    "svm_y_predict_test = svm_model.predict(test_dataset_scaled)\n",
    "svm_y_predict_test"
   ]
  },
  {
   "cell_type": "code",
   "execution_count": 65,
   "id": "e7ea1891",
   "metadata": {},
   "outputs": [
    {
     "data": {
      "text/html": [
       "<div>\n",
       "<style scoped>\n",
       "    .dataframe tbody tr th:only-of-type {\n",
       "        vertical-align: middle;\n",
       "    }\n",
       "\n",
       "    .dataframe tbody tr th {\n",
       "        vertical-align: top;\n",
       "    }\n",
       "\n",
       "    .dataframe thead th {\n",
       "        text-align: right;\n",
       "    }\n",
       "</style>\n",
       "<table border=\"1\" class=\"dataframe\">\n",
       "  <thead>\n",
       "    <tr style=\"text-align: right;\">\n",
       "      <th></th>\n",
       "      <th>y</th>\n",
       "    </tr>\n",
       "  </thead>\n",
       "  <tbody>\n",
       "    <tr>\n",
       "      <th>0</th>\n",
       "      <td>0</td>\n",
       "    </tr>\n",
       "    <tr>\n",
       "      <th>1</th>\n",
       "      <td>0</td>\n",
       "    </tr>\n",
       "    <tr>\n",
       "      <th>2</th>\n",
       "      <td>0</td>\n",
       "    </tr>\n",
       "    <tr>\n",
       "      <th>3</th>\n",
       "      <td>0</td>\n",
       "    </tr>\n",
       "    <tr>\n",
       "      <th>4</th>\n",
       "      <td>0</td>\n",
       "    </tr>\n",
       "    <tr>\n",
       "      <th>...</th>\n",
       "      <td>...</td>\n",
       "    </tr>\n",
       "    <tr>\n",
       "      <th>3995</th>\n",
       "      <td>0</td>\n",
       "    </tr>\n",
       "    <tr>\n",
       "      <th>3996</th>\n",
       "      <td>0</td>\n",
       "    </tr>\n",
       "    <tr>\n",
       "      <th>3997</th>\n",
       "      <td>0</td>\n",
       "    </tr>\n",
       "    <tr>\n",
       "      <th>3998</th>\n",
       "      <td>1</td>\n",
       "    </tr>\n",
       "    <tr>\n",
       "      <th>3999</th>\n",
       "      <td>0</td>\n",
       "    </tr>\n",
       "  </tbody>\n",
       "</table>\n",
       "<p>4000 rows × 1 columns</p>\n",
       "</div>"
      ],
      "text/plain": [
       "      y\n",
       "0     0\n",
       "1     0\n",
       "2     0\n",
       "3     0\n",
       "4     0\n",
       "...  ..\n",
       "3995  0\n",
       "3996  0\n",
       "3997  0\n",
       "3998  1\n",
       "3999  0\n",
       "\n",
       "[4000 rows x 1 columns]"
      ]
     },
     "execution_count": 65,
     "metadata": {},
     "output_type": "execute_result"
    }
   ],
   "source": [
    "predict_y_column = pd.DataFrame({'y': svm_y_predict_test})\n",
    "predict_y_column.to_csv('svm_y_predict_test.csv', index=False)\n",
    "svm_predict_y = pd.read_csv('svm_y_predict_test.csv')\n",
    "svm_predict_y"
   ]
  },
  {
   "cell_type": "markdown",
   "id": "edac493c",
   "metadata": {},
   "source": [
    "### F1 score - SVM"
   ]
  },
  {
   "cell_type": "code",
   "execution_count": 66,
   "id": "d8ab93a3",
   "metadata": {},
   "outputs": [
    {
     "name": "stdout",
     "output_type": "stream",
     "text": [
      "F1 Score: 0.9343759185702095\n"
     ]
    }
   ],
   "source": [
    "from sklearn.metrics import f1_score\n",
    "f1_scores = f1_score(predict_y, svm_y_predict_test, average='weighted')\n",
    "print(f\"F1 Score: {f1_scores}\")"
   ]
  },
  {
   "cell_type": "markdown",
   "id": "4a6ca232",
   "metadata": {},
   "source": [
    "### Decision Tree - Predict on test data"
   ]
  },
  {
   "cell_type": "code",
   "execution_count": 64,
   "id": "2dcf7677",
   "metadata": {},
   "outputs": [
    {
     "data": {
      "text/plain": [
       "array([0, 0, 0, ..., 0, 0, 0])"
      ]
     },
     "execution_count": 64,
     "metadata": {},
     "output_type": "execute_result"
    }
   ],
   "source": [
    "dt_y_predict_test = dt.predict(test_dataset_scaled)\n",
    "dt_y_predict_test"
   ]
  },
  {
   "cell_type": "markdown",
   "id": "35bfba2d",
   "metadata": {},
   "source": [
    "## Convert numerical prediction into categorical value (SVM)"
   ]
  },
  {
   "cell_type": "code",
   "execution_count": 52,
   "id": "bae8d352",
   "metadata": {},
   "outputs": [],
   "source": [
    "pred_label_dict = {\n",
    "    0: 'C1',\n",
    "    1: 'C2',\n",
    "    2: 'C3',\n",
    "    3: 'C4',\n",
    "    4: 'C5',\n",
    "    5: 'C6'\n",
    "}\n",
    "\n",
    "svm_y_predict_categorical = [pred_label_dict[value] for value in svm_y_predict_test]"
   ]
  },
  {
   "cell_type": "markdown",
   "id": "f5af7bfa",
   "metadata": {},
   "source": [
    "#### Generate prediction result  csv file "
   ]
  },
  {
   "cell_type": "code",
   "execution_count": 53,
   "id": "c02e1b83",
   "metadata": {},
   "outputs": [],
   "source": [
    "predict_df = pd.DataFrame({ 'ID': index_column, 'y': svm_y_predict_categorical})\n",
    "predict_df.to_csv('shamim_khaled.csv', index=False)"
   ]
  },
  {
   "cell_type": "code",
   "execution_count": 54,
   "id": "da334809",
   "metadata": {},
   "outputs": [
    {
     "data": {
      "text/html": [
       "<div>\n",
       "<style scoped>\n",
       "    .dataframe tbody tr th:only-of-type {\n",
       "        vertical-align: middle;\n",
       "    }\n",
       "\n",
       "    .dataframe tbody tr th {\n",
       "        vertical-align: top;\n",
       "    }\n",
       "\n",
       "    .dataframe thead th {\n",
       "        text-align: right;\n",
       "    }\n",
       "</style>\n",
       "<table border=\"1\" class=\"dataframe\">\n",
       "  <thead>\n",
       "    <tr style=\"text-align: right;\">\n",
       "      <th></th>\n",
       "      <th>y</th>\n",
       "    </tr>\n",
       "    <tr>\n",
       "      <th>ID</th>\n",
       "      <th></th>\n",
       "    </tr>\n",
       "  </thead>\n",
       "  <tbody>\n",
       "    <tr>\n",
       "      <th>6001</th>\n",
       "      <td>C1</td>\n",
       "    </tr>\n",
       "    <tr>\n",
       "      <th>6002</th>\n",
       "      <td>C1</td>\n",
       "    </tr>\n",
       "    <tr>\n",
       "      <th>6003</th>\n",
       "      <td>C1</td>\n",
       "    </tr>\n",
       "    <tr>\n",
       "      <th>6004</th>\n",
       "      <td>C1</td>\n",
       "    </tr>\n",
       "    <tr>\n",
       "      <th>6005</th>\n",
       "      <td>C1</td>\n",
       "    </tr>\n",
       "    <tr>\n",
       "      <th>...</th>\n",
       "      <td>...</td>\n",
       "    </tr>\n",
       "    <tr>\n",
       "      <th>9996</th>\n",
       "      <td>C1</td>\n",
       "    </tr>\n",
       "    <tr>\n",
       "      <th>9997</th>\n",
       "      <td>C1</td>\n",
       "    </tr>\n",
       "    <tr>\n",
       "      <th>9998</th>\n",
       "      <td>C1</td>\n",
       "    </tr>\n",
       "    <tr>\n",
       "      <th>9999</th>\n",
       "      <td>C1</td>\n",
       "    </tr>\n",
       "    <tr>\n",
       "      <th>10000</th>\n",
       "      <td>C1</td>\n",
       "    </tr>\n",
       "  </tbody>\n",
       "</table>\n",
       "<p>4000 rows × 1 columns</p>\n",
       "</div>"
      ],
      "text/plain": [
       "        y\n",
       "ID       \n",
       "6001   C1\n",
       "6002   C1\n",
       "6003   C1\n",
       "6004   C1\n",
       "6005   C1\n",
       "...    ..\n",
       "9996   C1\n",
       "9997   C1\n",
       "9998   C1\n",
       "9999   C1\n",
       "10000  C1\n",
       "\n",
       "[4000 rows x 1 columns]"
      ]
     },
     "execution_count": 54,
     "metadata": {},
     "output_type": "execute_result"
    }
   ],
   "source": [
    "svm_prediction_results = pd.read_csv('shamim_khaled.csv', index_col='ID')\n",
    "svm_prediction_results"
   ]
  },
  {
   "cell_type": "code",
   "execution_count": null,
   "id": "41849ab8",
   "metadata": {},
   "outputs": [],
   "source": []
  }
 ],
 "metadata": {
  "kernelspec": {
   "display_name": "Python 3 (ipykernel)",
   "language": "python",
   "name": "python3"
  },
  "language_info": {
   "codemirror_mode": {
    "name": "ipython",
    "version": 3
   },
   "file_extension": ".py",
   "mimetype": "text/x-python",
   "name": "python",
   "nbconvert_exporter": "python",
   "pygments_lexer": "ipython3",
   "version": "3.9.12"
  }
 },
 "nbformat": 4,
 "nbformat_minor": 5
}
