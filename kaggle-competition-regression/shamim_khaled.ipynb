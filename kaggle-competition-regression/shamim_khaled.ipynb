{
 "cells": [
  {
   "cell_type": "markdown",
   "id": "c251a384",
   "metadata": {},
   "source": [
    "# Import the necessary libraries"
   ]
  },
  {
   "cell_type": "code",
   "execution_count": 1,
   "id": "2f9a407b",
   "metadata": {},
   "outputs": [],
   "source": [
    "import pandas as pd\n",
    "import numpy as np\n",
    "import matplotlib.pyplot as plt\n",
    "import seaborn as sns\n"
   ]
  },
  {
   "cell_type": "markdown",
   "id": "daa537a2",
   "metadata": {},
   "source": [
    "# Load the dataset"
   ]
  },
  {
   "cell_type": "code",
   "execution_count": 2,
   "id": "f1273fe8",
   "metadata": {},
   "outputs": [],
   "source": [
    "train_df = pd.read_csv(r\"C:\\Users\\SHAMIM KHALED\\jr-ml-engineer\\train.csv\", index_col='Id')"
   ]
  },
  {
   "cell_type": "code",
   "execution_count": 3,
   "id": "4dc2cd27",
   "metadata": {},
   "outputs": [
    {
     "data": {
      "text/html": [
       "<div>\n",
       "<style scoped>\n",
       "    .dataframe tbody tr th:only-of-type {\n",
       "        vertical-align: middle;\n",
       "    }\n",
       "\n",
       "    .dataframe tbody tr th {\n",
       "        vertical-align: top;\n",
       "    }\n",
       "\n",
       "    .dataframe thead th {\n",
       "        text-align: right;\n",
       "    }\n",
       "</style>\n",
       "<table border=\"1\" class=\"dataframe\">\n",
       "  <thead>\n",
       "    <tr style=\"text-align: right;\">\n",
       "      <th></th>\n",
       "      <th>col4</th>\n",
       "      <th>col6</th>\n",
       "      <th>col9</th>\n",
       "      <th>col1</th>\n",
       "      <th>col8</th>\n",
       "      <th>col3</th>\n",
       "      <th>col7</th>\n",
       "      <th>y</th>\n",
       "    </tr>\n",
       "    <tr>\n",
       "      <th>Id</th>\n",
       "      <th></th>\n",
       "      <th></th>\n",
       "      <th></th>\n",
       "      <th></th>\n",
       "      <th></th>\n",
       "      <th></th>\n",
       "      <th></th>\n",
       "      <th></th>\n",
       "    </tr>\n",
       "  </thead>\n",
       "  <tbody>\n",
       "    <tr>\n",
       "      <th>1</th>\n",
       "      <td>2107</td>\n",
       "      <td>5.0</td>\n",
       "      <td>B0</td>\n",
       "      <td>2014-03-10</td>\n",
       "      <td>3.0</td>\n",
       "      <td>A0</td>\n",
       "      <td>2</td>\n",
       "      <td>1300000</td>\n",
       "    </tr>\n",
       "    <tr>\n",
       "      <th>2</th>\n",
       "      <td>2106</td>\n",
       "      <td>4.0</td>\n",
       "      <td>B0</td>\n",
       "      <td>2017-11-20</td>\n",
       "      <td>2.0</td>\n",
       "      <td>A453</td>\n",
       "      <td>2</td>\n",
       "      <td>2250000</td>\n",
       "    </tr>\n",
       "    <tr>\n",
       "      <th>3</th>\n",
       "      <td>2110</td>\n",
       "      <td>5.0</td>\n",
       "      <td>B0</td>\n",
       "      <td>2017-02-20</td>\n",
       "      <td>2.0</td>\n",
       "      <td>A371</td>\n",
       "      <td>4</td>\n",
       "      <td>3800000</td>\n",
       "    </tr>\n",
       "    <tr>\n",
       "      <th>4</th>\n",
       "      <td>2048</td>\n",
       "      <td>3.0</td>\n",
       "      <td>B0</td>\n",
       "      <td>2012-01-31</td>\n",
       "      <td>2.0</td>\n",
       "      <td>A508</td>\n",
       "      <td>1</td>\n",
       "      <td>790000</td>\n",
       "    </tr>\n",
       "    <tr>\n",
       "      <th>5</th>\n",
       "      <td>2146</td>\n",
       "      <td>2.0</td>\n",
       "      <td>B1</td>\n",
       "      <td>2017-07-04</td>\n",
       "      <td>1.0</td>\n",
       "      <td>A548</td>\n",
       "      <td>2</td>\n",
       "      <td>615000</td>\n",
       "    </tr>\n",
       "  </tbody>\n",
       "</table>\n",
       "</div>"
      ],
      "text/plain": [
       "    col4  col6 col9        col1  col8  col3  col7        y\n",
       "Id                                                        \n",
       "1   2107   5.0   B0  2014-03-10   3.0    A0     2  1300000\n",
       "2   2106   4.0   B0  2017-11-20   2.0  A453     2  2250000\n",
       "3   2110   5.0   B0  2017-02-20   2.0  A371     4  3800000\n",
       "4   2048   3.0   B0  2012-01-31   2.0  A508     1   790000\n",
       "5   2146   2.0   B1  2017-07-04   1.0  A548     2   615000"
      ]
     },
     "execution_count": 3,
     "metadata": {},
     "output_type": "execute_result"
    }
   ],
   "source": [
    "train_df.head()"
   ]
  },
  {
   "cell_type": "code",
   "execution_count": 4,
   "id": "8d560c7d",
   "metadata": {},
   "outputs": [
    {
     "data": {
      "text/html": [
       "<div>\n",
       "<style scoped>\n",
       "    .dataframe tbody tr th:only-of-type {\n",
       "        vertical-align: middle;\n",
       "    }\n",
       "\n",
       "    .dataframe tbody tr th {\n",
       "        vertical-align: top;\n",
       "    }\n",
       "\n",
       "    .dataframe thead th {\n",
       "        text-align: right;\n",
       "    }\n",
       "</style>\n",
       "<table border=\"1\" class=\"dataframe\">\n",
       "  <thead>\n",
       "    <tr style=\"text-align: right;\">\n",
       "      <th></th>\n",
       "      <th>col4</th>\n",
       "      <th>col6</th>\n",
       "      <th>col9</th>\n",
       "      <th>col1</th>\n",
       "      <th>col8</th>\n",
       "      <th>col3</th>\n",
       "      <th>col7</th>\n",
       "      <th>y</th>\n",
       "    </tr>\n",
       "    <tr>\n",
       "      <th>Id</th>\n",
       "      <th></th>\n",
       "      <th></th>\n",
       "      <th></th>\n",
       "      <th></th>\n",
       "      <th></th>\n",
       "      <th></th>\n",
       "      <th></th>\n",
       "      <th></th>\n",
       "    </tr>\n",
       "  </thead>\n",
       "  <tbody>\n",
       "    <tr>\n",
       "      <th>139648</th>\n",
       "      <td>2209</td>\n",
       "      <td>2.0</td>\n",
       "      <td>B0</td>\n",
       "      <td>2015-03-30</td>\n",
       "      <td>2.0</td>\n",
       "      <td>A386</td>\n",
       "      <td>1</td>\n",
       "      <td>737000</td>\n",
       "    </tr>\n",
       "    <tr>\n",
       "      <th>139649</th>\n",
       "      <td>2160</td>\n",
       "      <td>4.0</td>\n",
       "      <td>B0</td>\n",
       "      <td>2015-04-11</td>\n",
       "      <td>2.0</td>\n",
       "      <td>A317</td>\n",
       "      <td>2</td>\n",
       "      <td>854000</td>\n",
       "    </tr>\n",
       "    <tr>\n",
       "      <th>139650</th>\n",
       "      <td>2228</td>\n",
       "      <td>3.0</td>\n",
       "      <td>B0</td>\n",
       "      <td>2014-07-24</td>\n",
       "      <td>2.0</td>\n",
       "      <td>A432</td>\n",
       "      <td>1</td>\n",
       "      <td>920000</td>\n",
       "    </tr>\n",
       "    <tr>\n",
       "      <th>139651</th>\n",
       "      <td>2211</td>\n",
       "      <td>3.0</td>\n",
       "      <td>B0</td>\n",
       "      <td>2017-07-01</td>\n",
       "      <td>1.0</td>\n",
       "      <td>A480</td>\n",
       "      <td>1</td>\n",
       "      <td>1276000</td>\n",
       "    </tr>\n",
       "    <tr>\n",
       "      <th>139652</th>\n",
       "      <td>2042</td>\n",
       "      <td>2.0</td>\n",
       "      <td>B0</td>\n",
       "      <td>2018-02-10</td>\n",
       "      <td>NaN</td>\n",
       "      <td>A392</td>\n",
       "      <td>1</td>\n",
       "      <td>1290000</td>\n",
       "    </tr>\n",
       "  </tbody>\n",
       "</table>\n",
       "</div>"
      ],
      "text/plain": [
       "        col4  col6 col9        col1  col8  col3  col7        y\n",
       "Id                                                            \n",
       "139648  2209   2.0   B0  2015-03-30   2.0  A386     1   737000\n",
       "139649  2160   4.0   B0  2015-04-11   2.0  A317     2   854000\n",
       "139650  2228   3.0   B0  2014-07-24   2.0  A432     1   920000\n",
       "139651  2211   3.0   B0  2017-07-01   1.0  A480     1  1276000\n",
       "139652  2042   2.0   B0  2018-02-10   NaN  A392     1  1290000"
      ]
     },
     "execution_count": 4,
     "metadata": {},
     "output_type": "execute_result"
    }
   ],
   "source": [
    "train_df.tail()"
   ]
  },
  {
   "cell_type": "code",
   "execution_count": 5,
   "id": "e073fa0b",
   "metadata": {},
   "outputs": [
    {
     "name": "stdout",
     "output_type": "stream",
     "text": [
      "<class 'pandas.core.frame.DataFrame'>\n",
      "Index: 139652 entries, 1 to 139652\n",
      "Data columns (total 8 columns):\n",
      " #   Column  Non-Null Count   Dtype  \n",
      "---  ------  --------------   -----  \n",
      " 0   col4    139652 non-null  int64  \n",
      " 1   col6    139546 non-null  float64\n",
      " 2   col9    139652 non-null  object \n",
      " 3   col1    139652 non-null  object \n",
      " 4   col8    126896 non-null  float64\n",
      " 5   col3    139652 non-null  object \n",
      " 6   col7    139652 non-null  int64  \n",
      " 7   y       139652 non-null  int64  \n",
      "dtypes: float64(2), int64(3), object(3)\n",
      "memory usage: 9.6+ MB\n"
     ]
    }
   ],
   "source": [
    "train_df.info()"
   ]
  },
  {
   "cell_type": "code",
   "execution_count": 6,
   "id": "65923df5",
   "metadata": {},
   "outputs": [
    {
     "data": {
      "text/plain": [
       "col4        0\n",
       "col6      106\n",
       "col9        0\n",
       "col1        0\n",
       "col8    12756\n",
       "col3        0\n",
       "col7        0\n",
       "y           0\n",
       "dtype: int64"
      ]
     },
     "execution_count": 6,
     "metadata": {},
     "output_type": "execute_result"
    }
   ],
   "source": [
    "train_df.isnull().sum()"
   ]
  },
  {
   "cell_type": "markdown",
   "id": "a9dcade6",
   "metadata": {},
   "source": [
    "# Handle the missing value"
   ]
  },
  {
   "cell_type": "code",
   "execution_count": 7,
   "id": "1ecdd6fd",
   "metadata": {},
   "outputs": [],
   "source": [
    "# train_df['col6'] = train_df['col6'].fillna(value='NaN', )\n",
    "# train_df['col8'] = train_df['col8'].fillna(value='NaN')"
   ]
  },
  {
   "cell_type": "code",
   "execution_count": 8,
   "id": "f727307c",
   "metadata": {},
   "outputs": [],
   "source": [
    "train_df['col6'] = train_df['col6'].fillna(value=2)\n",
    "train_df['col8'] = train_df['col8'].fillna(value=2)"
   ]
  },
  {
   "cell_type": "code",
   "execution_count": 9,
   "id": "46cb77b1",
   "metadata": {},
   "outputs": [],
   "source": [
    "new_train_df = train_df"
   ]
  },
  {
   "cell_type": "code",
   "execution_count": 10,
   "id": "936fbdaf",
   "metadata": {},
   "outputs": [],
   "source": [
    "new_train_df = new_train_df.drop(columns='col1')"
   ]
  },
  {
   "cell_type": "code",
   "execution_count": 11,
   "id": "36c83471",
   "metadata": {},
   "outputs": [
    {
     "data": {
      "text/plain": [
       "col4    0\n",
       "col6    0\n",
       "col9    0\n",
       "col8    0\n",
       "col3    0\n",
       "col7    0\n",
       "y       0\n",
       "dtype: int64"
      ]
     },
     "execution_count": 11,
     "metadata": {},
     "output_type": "execute_result"
    }
   ],
   "source": [
    "new_train_df.isnull().sum()"
   ]
  },
  {
   "cell_type": "code",
   "execution_count": 12,
   "id": "fefff65b",
   "metadata": {},
   "outputs": [
    {
     "data": {
      "text/html": [
       "<div>\n",
       "<style scoped>\n",
       "    .dataframe tbody tr th:only-of-type {\n",
       "        vertical-align: middle;\n",
       "    }\n",
       "\n",
       "    .dataframe tbody tr th {\n",
       "        vertical-align: top;\n",
       "    }\n",
       "\n",
       "    .dataframe thead th {\n",
       "        text-align: right;\n",
       "    }\n",
       "</style>\n",
       "<table border=\"1\" class=\"dataframe\">\n",
       "  <thead>\n",
       "    <tr style=\"text-align: right;\">\n",
       "      <th></th>\n",
       "      <th>col4</th>\n",
       "      <th>col6</th>\n",
       "      <th>col8</th>\n",
       "      <th>col7</th>\n",
       "      <th>y</th>\n",
       "    </tr>\n",
       "  </thead>\n",
       "  <tbody>\n",
       "    <tr>\n",
       "      <th>count</th>\n",
       "      <td>139652.000000</td>\n",
       "      <td>139652.000000</td>\n",
       "      <td>139652.000000</td>\n",
       "      <td>139652.000000</td>\n",
       "      <td>1.396520e+05</td>\n",
       "    </tr>\n",
       "    <tr>\n",
       "      <th>mean</th>\n",
       "      <td>2196.512989</td>\n",
       "      <td>3.514071</td>\n",
       "      <td>1.938404</td>\n",
       "      <td>1.889167</td>\n",
       "      <td>1.242592e+06</td>\n",
       "    </tr>\n",
       "    <tr>\n",
       "      <th>std</th>\n",
       "      <td>192.863837</td>\n",
       "      <td>1.069950</td>\n",
       "      <td>0.997796</td>\n",
       "      <td>0.938204</td>\n",
       "      <td>1.028745e+06</td>\n",
       "    </tr>\n",
       "    <tr>\n",
       "      <th>min</th>\n",
       "      <td>2000.000000</td>\n",
       "      <td>1.000000</td>\n",
       "      <td>1.000000</td>\n",
       "      <td>1.000000</td>\n",
       "      <td>1.000000e+00</td>\n",
       "    </tr>\n",
       "    <tr>\n",
       "      <th>25%</th>\n",
       "      <td>2082.000000</td>\n",
       "      <td>3.000000</td>\n",
       "      <td>1.000000</td>\n",
       "      <td>1.000000</td>\n",
       "      <td>7.200000e+05</td>\n",
       "    </tr>\n",
       "    <tr>\n",
       "      <th>50%</th>\n",
       "      <td>2145.000000</td>\n",
       "      <td>3.000000</td>\n",
       "      <td>2.000000</td>\n",
       "      <td>2.000000</td>\n",
       "      <td>9.850000e+05</td>\n",
       "    </tr>\n",
       "    <tr>\n",
       "      <th>75%</th>\n",
       "      <td>2211.000000</td>\n",
       "      <td>4.000000</td>\n",
       "      <td>2.000000</td>\n",
       "      <td>2.000000</td>\n",
       "      <td>1.470000e+06</td>\n",
       "    </tr>\n",
       "    <tr>\n",
       "      <th>max</th>\n",
       "      <td>4878.000000</td>\n",
       "      <td>99.000000</td>\n",
       "      <td>30.000000</td>\n",
       "      <td>99.000000</td>\n",
       "      <td>1.000500e+08</td>\n",
       "    </tr>\n",
       "  </tbody>\n",
       "</table>\n",
       "</div>"
      ],
      "text/plain": [
       "                col4           col6           col8           col7  \\\n",
       "count  139652.000000  139652.000000  139652.000000  139652.000000   \n",
       "mean     2196.512989       3.514071       1.938404       1.889167   \n",
       "std       192.863837       1.069950       0.997796       0.938204   \n",
       "min      2000.000000       1.000000       1.000000       1.000000   \n",
       "25%      2082.000000       3.000000       1.000000       1.000000   \n",
       "50%      2145.000000       3.000000       2.000000       2.000000   \n",
       "75%      2211.000000       4.000000       2.000000       2.000000   \n",
       "max      4878.000000      99.000000      30.000000      99.000000   \n",
       "\n",
       "                  y  \n",
       "count  1.396520e+05  \n",
       "mean   1.242592e+06  \n",
       "std    1.028745e+06  \n",
       "min    1.000000e+00  \n",
       "25%    7.200000e+05  \n",
       "50%    9.850000e+05  \n",
       "75%    1.470000e+06  \n",
       "max    1.000500e+08  "
      ]
     },
     "execution_count": 12,
     "metadata": {},
     "output_type": "execute_result"
    }
   ],
   "source": [
    "new_train_df.describe()"
   ]
  },
  {
   "cell_type": "markdown",
   "id": "98d65197",
   "metadata": {},
   "source": [
    "# Convert the categorical value into numeric value"
   ]
  },
  {
   "cell_type": "code",
   "execution_count": 13,
   "id": "b1256214",
   "metadata": {},
   "outputs": [],
   "source": [
    "from sklearn.preprocessing import LabelEncoder\n",
    "label_encoder = LabelEncoder()\n",
    "new_train_df['col9'] = label_encoder.fit_transform(new_train_df['col9'])\n",
    "new_train_df['col3'] = label_encoder.fit_transform(new_train_df['col3'])\n"
   ]
  },
  {
   "cell_type": "code",
   "execution_count": 14,
   "id": "9f0f1c1c",
   "metadata": {},
   "outputs": [
    {
     "data": {
      "text/html": [
       "<div>\n",
       "<style scoped>\n",
       "    .dataframe tbody tr th:only-of-type {\n",
       "        vertical-align: middle;\n",
       "    }\n",
       "\n",
       "    .dataframe tbody tr th {\n",
       "        vertical-align: top;\n",
       "    }\n",
       "\n",
       "    .dataframe thead th {\n",
       "        text-align: right;\n",
       "    }\n",
       "</style>\n",
       "<table border=\"1\" class=\"dataframe\">\n",
       "  <thead>\n",
       "    <tr style=\"text-align: right;\">\n",
       "      <th></th>\n",
       "      <th>col4</th>\n",
       "      <th>col6</th>\n",
       "      <th>col9</th>\n",
       "      <th>col8</th>\n",
       "      <th>col3</th>\n",
       "      <th>col7</th>\n",
       "      <th>y</th>\n",
       "    </tr>\n",
       "    <tr>\n",
       "      <th>Id</th>\n",
       "      <th></th>\n",
       "      <th></th>\n",
       "      <th></th>\n",
       "      <th></th>\n",
       "      <th></th>\n",
       "      <th></th>\n",
       "      <th></th>\n",
       "    </tr>\n",
       "  </thead>\n",
       "  <tbody>\n",
       "    <tr>\n",
       "      <th>1</th>\n",
       "      <td>2107</td>\n",
       "      <td>5.0</td>\n",
       "      <td>0</td>\n",
       "      <td>3.0</td>\n",
       "      <td>0</td>\n",
       "      <td>2</td>\n",
       "      <td>1300000</td>\n",
       "    </tr>\n",
       "    <tr>\n",
       "      <th>2</th>\n",
       "      <td>2106</td>\n",
       "      <td>4.0</td>\n",
       "      <td>0</td>\n",
       "      <td>2.0</td>\n",
       "      <td>392</td>\n",
       "      <td>2</td>\n",
       "      <td>2250000</td>\n",
       "    </tr>\n",
       "    <tr>\n",
       "      <th>3</th>\n",
       "      <td>2110</td>\n",
       "      <td>5.0</td>\n",
       "      <td>0</td>\n",
       "      <td>2.0</td>\n",
       "      <td>302</td>\n",
       "      <td>4</td>\n",
       "      <td>3800000</td>\n",
       "    </tr>\n",
       "    <tr>\n",
       "      <th>4</th>\n",
       "      <td>2048</td>\n",
       "      <td>3.0</td>\n",
       "      <td>0</td>\n",
       "      <td>2.0</td>\n",
       "      <td>449</td>\n",
       "      <td>1</td>\n",
       "      <td>790000</td>\n",
       "    </tr>\n",
       "    <tr>\n",
       "      <th>5</th>\n",
       "      <td>2146</td>\n",
       "      <td>2.0</td>\n",
       "      <td>1</td>\n",
       "      <td>1.0</td>\n",
       "      <td>493</td>\n",
       "      <td>2</td>\n",
       "      <td>615000</td>\n",
       "    </tr>\n",
       "    <tr>\n",
       "      <th>...</th>\n",
       "      <td>...</td>\n",
       "      <td>...</td>\n",
       "      <td>...</td>\n",
       "      <td>...</td>\n",
       "      <td>...</td>\n",
       "      <td>...</td>\n",
       "      <td>...</td>\n",
       "    </tr>\n",
       "    <tr>\n",
       "      <th>139648</th>\n",
       "      <td>2209</td>\n",
       "      <td>2.0</td>\n",
       "      <td>0</td>\n",
       "      <td>2.0</td>\n",
       "      <td>318</td>\n",
       "      <td>1</td>\n",
       "      <td>737000</td>\n",
       "    </tr>\n",
       "    <tr>\n",
       "      <th>139649</th>\n",
       "      <td>2160</td>\n",
       "      <td>4.0</td>\n",
       "      <td>0</td>\n",
       "      <td>2.0</td>\n",
       "      <td>243</td>\n",
       "      <td>2</td>\n",
       "      <td>854000</td>\n",
       "    </tr>\n",
       "    <tr>\n",
       "      <th>139650</th>\n",
       "      <td>2228</td>\n",
       "      <td>3.0</td>\n",
       "      <td>0</td>\n",
       "      <td>2.0</td>\n",
       "      <td>369</td>\n",
       "      <td>1</td>\n",
       "      <td>920000</td>\n",
       "    </tr>\n",
       "    <tr>\n",
       "      <th>139651</th>\n",
       "      <td>2211</td>\n",
       "      <td>3.0</td>\n",
       "      <td>0</td>\n",
       "      <td>1.0</td>\n",
       "      <td>419</td>\n",
       "      <td>1</td>\n",
       "      <td>1276000</td>\n",
       "    </tr>\n",
       "    <tr>\n",
       "      <th>139652</th>\n",
       "      <td>2042</td>\n",
       "      <td>2.0</td>\n",
       "      <td>0</td>\n",
       "      <td>2.0</td>\n",
       "      <td>325</td>\n",
       "      <td>1</td>\n",
       "      <td>1290000</td>\n",
       "    </tr>\n",
       "  </tbody>\n",
       "</table>\n",
       "<p>139652 rows × 7 columns</p>\n",
       "</div>"
      ],
      "text/plain": [
       "        col4  col6  col9  col8  col3  col7        y\n",
       "Id                                                 \n",
       "1       2107   5.0     0   3.0     0     2  1300000\n",
       "2       2106   4.0     0   2.0   392     2  2250000\n",
       "3       2110   5.0     0   2.0   302     4  3800000\n",
       "4       2048   3.0     0   2.0   449     1   790000\n",
       "5       2146   2.0     1   1.0   493     2   615000\n",
       "...      ...   ...   ...   ...   ...   ...      ...\n",
       "139648  2209   2.0     0   2.0   318     1   737000\n",
       "139649  2160   4.0     0   2.0   243     2   854000\n",
       "139650  2228   3.0     0   2.0   369     1   920000\n",
       "139651  2211   3.0     0   1.0   419     1  1276000\n",
       "139652  2042   2.0     0   2.0   325     1  1290000\n",
       "\n",
       "[139652 rows x 7 columns]"
      ]
     },
     "execution_count": 14,
     "metadata": {},
     "output_type": "execute_result"
    }
   ],
   "source": [
    "new_train_df"
   ]
  },
  {
   "cell_type": "code",
   "execution_count": 15,
   "id": "4813e486",
   "metadata": {},
   "outputs": [
    {
     "data": {
      "text/html": [
       "<div>\n",
       "<style scoped>\n",
       "    .dataframe tbody tr th:only-of-type {\n",
       "        vertical-align: middle;\n",
       "    }\n",
       "\n",
       "    .dataframe tbody tr th {\n",
       "        vertical-align: top;\n",
       "    }\n",
       "\n",
       "    .dataframe thead th {\n",
       "        text-align: right;\n",
       "    }\n",
       "</style>\n",
       "<table border=\"1\" class=\"dataframe\">\n",
       "  <thead>\n",
       "    <tr style=\"text-align: right;\">\n",
       "      <th></th>\n",
       "      <th>col4</th>\n",
       "      <th>col6</th>\n",
       "      <th>col9</th>\n",
       "      <th>col8</th>\n",
       "      <th>col3</th>\n",
       "      <th>col7</th>\n",
       "      <th>y</th>\n",
       "    </tr>\n",
       "  </thead>\n",
       "  <tbody>\n",
       "    <tr>\n",
       "      <th>count</th>\n",
       "      <td>139652.000000</td>\n",
       "      <td>139652.000000</td>\n",
       "      <td>139652.000000</td>\n",
       "      <td>139652.000000</td>\n",
       "      <td>139652.000000</td>\n",
       "      <td>139652.000000</td>\n",
       "      <td>1.396520e+05</td>\n",
       "    </tr>\n",
       "    <tr>\n",
       "      <th>mean</th>\n",
       "      <td>2196.512989</td>\n",
       "      <td>3.514071</td>\n",
       "      <td>0.273465</td>\n",
       "      <td>1.938404</td>\n",
       "      <td>327.587983</td>\n",
       "      <td>1.889167</td>\n",
       "      <td>1.242592e+06</td>\n",
       "    </tr>\n",
       "    <tr>\n",
       "      <th>std</th>\n",
       "      <td>192.863837</td>\n",
       "      <td>1.069950</td>\n",
       "      <td>0.777557</td>\n",
       "      <td>0.997796</td>\n",
       "      <td>191.147671</td>\n",
       "      <td>0.938204</td>\n",
       "      <td>1.028745e+06</td>\n",
       "    </tr>\n",
       "    <tr>\n",
       "      <th>min</th>\n",
       "      <td>2000.000000</td>\n",
       "      <td>1.000000</td>\n",
       "      <td>0.000000</td>\n",
       "      <td>1.000000</td>\n",
       "      <td>0.000000</td>\n",
       "      <td>1.000000</td>\n",
       "      <td>1.000000e+00</td>\n",
       "    </tr>\n",
       "    <tr>\n",
       "      <th>25%</th>\n",
       "      <td>2082.000000</td>\n",
       "      <td>3.000000</td>\n",
       "      <td>0.000000</td>\n",
       "      <td>1.000000</td>\n",
       "      <td>166.000000</td>\n",
       "      <td>1.000000</td>\n",
       "      <td>7.200000e+05</td>\n",
       "    </tr>\n",
       "    <tr>\n",
       "      <th>50%</th>\n",
       "      <td>2145.000000</td>\n",
       "      <td>3.000000</td>\n",
       "      <td>0.000000</td>\n",
       "      <td>2.000000</td>\n",
       "      <td>324.000000</td>\n",
       "      <td>2.000000</td>\n",
       "      <td>9.850000e+05</td>\n",
       "    </tr>\n",
       "    <tr>\n",
       "      <th>75%</th>\n",
       "      <td>2211.000000</td>\n",
       "      <td>4.000000</td>\n",
       "      <td>0.000000</td>\n",
       "      <td>2.000000</td>\n",
       "      <td>491.000000</td>\n",
       "      <td>2.000000</td>\n",
       "      <td>1.470000e+06</td>\n",
       "    </tr>\n",
       "    <tr>\n",
       "      <th>max</th>\n",
       "      <td>4878.000000</td>\n",
       "      <td>99.000000</td>\n",
       "      <td>7.000000</td>\n",
       "      <td>30.000000</td>\n",
       "      <td>673.000000</td>\n",
       "      <td>99.000000</td>\n",
       "      <td>1.000500e+08</td>\n",
       "    </tr>\n",
       "  </tbody>\n",
       "</table>\n",
       "</div>"
      ],
      "text/plain": [
       "                col4           col6           col9           col8  \\\n",
       "count  139652.000000  139652.000000  139652.000000  139652.000000   \n",
       "mean     2196.512989       3.514071       0.273465       1.938404   \n",
       "std       192.863837       1.069950       0.777557       0.997796   \n",
       "min      2000.000000       1.000000       0.000000       1.000000   \n",
       "25%      2082.000000       3.000000       0.000000       1.000000   \n",
       "50%      2145.000000       3.000000       0.000000       2.000000   \n",
       "75%      2211.000000       4.000000       0.000000       2.000000   \n",
       "max      4878.000000      99.000000       7.000000      30.000000   \n",
       "\n",
       "                col3           col7             y  \n",
       "count  139652.000000  139652.000000  1.396520e+05  \n",
       "mean      327.587983       1.889167  1.242592e+06  \n",
       "std       191.147671       0.938204  1.028745e+06  \n",
       "min         0.000000       1.000000  1.000000e+00  \n",
       "25%       166.000000       1.000000  7.200000e+05  \n",
       "50%       324.000000       2.000000  9.850000e+05  \n",
       "75%       491.000000       2.000000  1.470000e+06  \n",
       "max       673.000000      99.000000  1.000500e+08  "
      ]
     },
     "execution_count": 15,
     "metadata": {},
     "output_type": "execute_result"
    }
   ],
   "source": [
    "new_train_df.describe()"
   ]
  },
  {
   "cell_type": "code",
   "execution_count": 16,
   "id": "be971dd3",
   "metadata": {},
   "outputs": [
    {
     "data": {
      "text/html": [
       "<div>\n",
       "<style scoped>\n",
       "    .dataframe tbody tr th:only-of-type {\n",
       "        vertical-align: middle;\n",
       "    }\n",
       "\n",
       "    .dataframe tbody tr th {\n",
       "        vertical-align: top;\n",
       "    }\n",
       "\n",
       "    .dataframe thead th {\n",
       "        text-align: right;\n",
       "    }\n",
       "</style>\n",
       "<table border=\"1\" class=\"dataframe\">\n",
       "  <thead>\n",
       "    <tr style=\"text-align: right;\">\n",
       "      <th></th>\n",
       "      <th>col4</th>\n",
       "      <th>col6</th>\n",
       "      <th>col9</th>\n",
       "      <th>col8</th>\n",
       "      <th>col3</th>\n",
       "      <th>col7</th>\n",
       "      <th>y</th>\n",
       "    </tr>\n",
       "  </thead>\n",
       "  <tbody>\n",
       "    <tr>\n",
       "      <th>col4</th>\n",
       "      <td>1.000000</td>\n",
       "      <td>0.033207</td>\n",
       "      <td>-0.020165</td>\n",
       "      <td>0.024137</td>\n",
       "      <td>0.075454</td>\n",
       "      <td>-0.091309</td>\n",
       "      <td>-0.284167</td>\n",
       "    </tr>\n",
       "    <tr>\n",
       "      <th>col6</th>\n",
       "      <td>0.033207</td>\n",
       "      <td>1.000000</td>\n",
       "      <td>-0.192124</td>\n",
       "      <td>0.310141</td>\n",
       "      <td>0.002446</td>\n",
       "      <td>0.623613</td>\n",
       "      <td>0.298384</td>\n",
       "    </tr>\n",
       "    <tr>\n",
       "      <th>col9</th>\n",
       "      <td>-0.020165</td>\n",
       "      <td>-0.192124</td>\n",
       "      <td>1.000000</td>\n",
       "      <td>-0.119723</td>\n",
       "      <td>0.034262</td>\n",
       "      <td>-0.059457</td>\n",
       "      <td>-0.115362</td>\n",
       "    </tr>\n",
       "    <tr>\n",
       "      <th>col8</th>\n",
       "      <td>0.024137</td>\n",
       "      <td>0.310141</td>\n",
       "      <td>-0.119723</td>\n",
       "      <td>1.000000</td>\n",
       "      <td>-0.023278</td>\n",
       "      <td>0.290208</td>\n",
       "      <td>0.193333</td>\n",
       "    </tr>\n",
       "    <tr>\n",
       "      <th>col3</th>\n",
       "      <td>0.075454</td>\n",
       "      <td>0.002446</td>\n",
       "      <td>0.034262</td>\n",
       "      <td>-0.023278</td>\n",
       "      <td>1.000000</td>\n",
       "      <td>-0.004456</td>\n",
       "      <td>-0.015388</td>\n",
       "    </tr>\n",
       "    <tr>\n",
       "      <th>col7</th>\n",
       "      <td>-0.091309</td>\n",
       "      <td>0.623613</td>\n",
       "      <td>-0.059457</td>\n",
       "      <td>0.290208</td>\n",
       "      <td>-0.004456</td>\n",
       "      <td>1.000000</td>\n",
       "      <td>0.394397</td>\n",
       "    </tr>\n",
       "    <tr>\n",
       "      <th>y</th>\n",
       "      <td>-0.284167</td>\n",
       "      <td>0.298384</td>\n",
       "      <td>-0.115362</td>\n",
       "      <td>0.193333</td>\n",
       "      <td>-0.015388</td>\n",
       "      <td>0.394397</td>\n",
       "      <td>1.000000</td>\n",
       "    </tr>\n",
       "  </tbody>\n",
       "</table>\n",
       "</div>"
      ],
      "text/plain": [
       "          col4      col6      col9      col8      col3      col7         y\n",
       "col4  1.000000  0.033207 -0.020165  0.024137  0.075454 -0.091309 -0.284167\n",
       "col6  0.033207  1.000000 -0.192124  0.310141  0.002446  0.623613  0.298384\n",
       "col9 -0.020165 -0.192124  1.000000 -0.119723  0.034262 -0.059457 -0.115362\n",
       "col8  0.024137  0.310141 -0.119723  1.000000 -0.023278  0.290208  0.193333\n",
       "col3  0.075454  0.002446  0.034262 -0.023278  1.000000 -0.004456 -0.015388\n",
       "col7 -0.091309  0.623613 -0.059457  0.290208 -0.004456  1.000000  0.394397\n",
       "y    -0.284167  0.298384 -0.115362  0.193333 -0.015388  0.394397  1.000000"
      ]
     },
     "execution_count": 16,
     "metadata": {},
     "output_type": "execute_result"
    }
   ],
   "source": [
    "new_train_df.corr()"
   ]
  },
  {
   "cell_type": "code",
   "execution_count": 17,
   "id": "d8d92847",
   "metadata": {},
   "outputs": [
    {
     "data": {
      "text/plain": [
       "y\n",
       "1200000    1190\n",
       "1100000    1162\n",
       "1300000    1078\n",
       "850000      927\n",
       "900000      915\n",
       "           ... \n",
       "1175683       1\n",
       "4160000       1\n",
       "917349        1\n",
       "827925        1\n",
       "4408000       1\n",
       "Name: count, Length: 7032, dtype: int64"
      ]
     },
     "execution_count": 17,
     "metadata": {},
     "output_type": "execute_result"
    }
   ],
   "source": [
    "new_train_df['y'].value_counts()"
   ]
  },
  {
   "cell_type": "code",
   "execution_count": null,
   "id": "48791313",
   "metadata": {},
   "outputs": [],
   "source": [
    "# sns.countplot(new_train_df['y'], y='count')\n",
    "# plt.show()"
   ]
  },
  {
   "cell_type": "code",
   "execution_count": 18,
   "id": "c628cd97",
   "metadata": {},
   "outputs": [
    {
     "data": {
      "text/plain": [
       "(139652, 7)"
      ]
     },
     "execution_count": 18,
     "metadata": {},
     "output_type": "execute_result"
    }
   ],
   "source": [
    "new_train_df.shape"
   ]
  },
  {
   "cell_type": "code",
   "execution_count": null,
   "id": "378d82fd",
   "metadata": {},
   "outputs": [],
   "source": []
  },
  {
   "cell_type": "markdown",
   "id": "99c13c47",
   "metadata": {},
   "source": [
    "# Train, test split"
   ]
  },
  {
   "cell_type": "code",
   "execution_count": 19,
   "id": "07806412",
   "metadata": {},
   "outputs": [],
   "source": [
    "from sklearn.model_selection import train_test_split\n",
    "from sklearn.metrics import accuracy_score, classification_report, confusion_matrix\n",
    "from sklearn.metrics import mean_squared_error\n",
    "from sklearn.preprocessing import StandardScaler"
   ]
  },
  {
   "cell_type": "code",
   "execution_count": 20,
   "id": "682b8393",
   "metadata": {},
   "outputs": [],
   "source": [
    "x = new_train_df.drop(columns='y')\n",
    "y = new_train_df['y']"
   ]
  },
  {
   "cell_type": "code",
   "execution_count": 21,
   "id": "5752ada8",
   "metadata": {},
   "outputs": [
    {
     "data": {
      "text/html": [
       "<div>\n",
       "<style scoped>\n",
       "    .dataframe tbody tr th:only-of-type {\n",
       "        vertical-align: middle;\n",
       "    }\n",
       "\n",
       "    .dataframe tbody tr th {\n",
       "        vertical-align: top;\n",
       "    }\n",
       "\n",
       "    .dataframe thead th {\n",
       "        text-align: right;\n",
       "    }\n",
       "</style>\n",
       "<table border=\"1\" class=\"dataframe\">\n",
       "  <thead>\n",
       "    <tr style=\"text-align: right;\">\n",
       "      <th></th>\n",
       "      <th>col4</th>\n",
       "      <th>col6</th>\n",
       "      <th>col9</th>\n",
       "      <th>col8</th>\n",
       "      <th>col3</th>\n",
       "      <th>col7</th>\n",
       "    </tr>\n",
       "    <tr>\n",
       "      <th>Id</th>\n",
       "      <th></th>\n",
       "      <th></th>\n",
       "      <th></th>\n",
       "      <th></th>\n",
       "      <th></th>\n",
       "      <th></th>\n",
       "    </tr>\n",
       "  </thead>\n",
       "  <tbody>\n",
       "    <tr>\n",
       "      <th>1</th>\n",
       "      <td>2107</td>\n",
       "      <td>5.0</td>\n",
       "      <td>0</td>\n",
       "      <td>3.0</td>\n",
       "      <td>0</td>\n",
       "      <td>2</td>\n",
       "    </tr>\n",
       "    <tr>\n",
       "      <th>2</th>\n",
       "      <td>2106</td>\n",
       "      <td>4.0</td>\n",
       "      <td>0</td>\n",
       "      <td>2.0</td>\n",
       "      <td>392</td>\n",
       "      <td>2</td>\n",
       "    </tr>\n",
       "    <tr>\n",
       "      <th>3</th>\n",
       "      <td>2110</td>\n",
       "      <td>5.0</td>\n",
       "      <td>0</td>\n",
       "      <td>2.0</td>\n",
       "      <td>302</td>\n",
       "      <td>4</td>\n",
       "    </tr>\n",
       "    <tr>\n",
       "      <th>4</th>\n",
       "      <td>2048</td>\n",
       "      <td>3.0</td>\n",
       "      <td>0</td>\n",
       "      <td>2.0</td>\n",
       "      <td>449</td>\n",
       "      <td>1</td>\n",
       "    </tr>\n",
       "    <tr>\n",
       "      <th>5</th>\n",
       "      <td>2146</td>\n",
       "      <td>2.0</td>\n",
       "      <td>1</td>\n",
       "      <td>1.0</td>\n",
       "      <td>493</td>\n",
       "      <td>2</td>\n",
       "    </tr>\n",
       "    <tr>\n",
       "      <th>...</th>\n",
       "      <td>...</td>\n",
       "      <td>...</td>\n",
       "      <td>...</td>\n",
       "      <td>...</td>\n",
       "      <td>...</td>\n",
       "      <td>...</td>\n",
       "    </tr>\n",
       "    <tr>\n",
       "      <th>139648</th>\n",
       "      <td>2209</td>\n",
       "      <td>2.0</td>\n",
       "      <td>0</td>\n",
       "      <td>2.0</td>\n",
       "      <td>318</td>\n",
       "      <td>1</td>\n",
       "    </tr>\n",
       "    <tr>\n",
       "      <th>139649</th>\n",
       "      <td>2160</td>\n",
       "      <td>4.0</td>\n",
       "      <td>0</td>\n",
       "      <td>2.0</td>\n",
       "      <td>243</td>\n",
       "      <td>2</td>\n",
       "    </tr>\n",
       "    <tr>\n",
       "      <th>139650</th>\n",
       "      <td>2228</td>\n",
       "      <td>3.0</td>\n",
       "      <td>0</td>\n",
       "      <td>2.0</td>\n",
       "      <td>369</td>\n",
       "      <td>1</td>\n",
       "    </tr>\n",
       "    <tr>\n",
       "      <th>139651</th>\n",
       "      <td>2211</td>\n",
       "      <td>3.0</td>\n",
       "      <td>0</td>\n",
       "      <td>1.0</td>\n",
       "      <td>419</td>\n",
       "      <td>1</td>\n",
       "    </tr>\n",
       "    <tr>\n",
       "      <th>139652</th>\n",
       "      <td>2042</td>\n",
       "      <td>2.0</td>\n",
       "      <td>0</td>\n",
       "      <td>2.0</td>\n",
       "      <td>325</td>\n",
       "      <td>1</td>\n",
       "    </tr>\n",
       "  </tbody>\n",
       "</table>\n",
       "<p>139652 rows × 6 columns</p>\n",
       "</div>"
      ],
      "text/plain": [
       "        col4  col6  col9  col8  col3  col7\n",
       "Id                                        \n",
       "1       2107   5.0     0   3.0     0     2\n",
       "2       2106   4.0     0   2.0   392     2\n",
       "3       2110   5.0     0   2.0   302     4\n",
       "4       2048   3.0     0   2.0   449     1\n",
       "5       2146   2.0     1   1.0   493     2\n",
       "...      ...   ...   ...   ...   ...   ...\n",
       "139648  2209   2.0     0   2.0   318     1\n",
       "139649  2160   4.0     0   2.0   243     2\n",
       "139650  2228   3.0     0   2.0   369     1\n",
       "139651  2211   3.0     0   1.0   419     1\n",
       "139652  2042   2.0     0   2.0   325     1\n",
       "\n",
       "[139652 rows x 6 columns]"
      ]
     },
     "execution_count": 21,
     "metadata": {},
     "output_type": "execute_result"
    }
   ],
   "source": [
    "x"
   ]
  },
  {
   "cell_type": "code",
   "execution_count": 22,
   "id": "c8824f39",
   "metadata": {},
   "outputs": [
    {
     "data": {
      "text/plain": [
       "(139652, 6)"
      ]
     },
     "execution_count": 22,
     "metadata": {},
     "output_type": "execute_result"
    }
   ],
   "source": [
    "x.shape"
   ]
  },
  {
   "cell_type": "code",
   "execution_count": 23,
   "id": "0004a2ee",
   "metadata": {},
   "outputs": [
    {
     "data": {
      "text/plain": [
       "(139652,)"
      ]
     },
     "execution_count": 23,
     "metadata": {},
     "output_type": "execute_result"
    }
   ],
   "source": [
    "y.shape"
   ]
  },
  {
   "cell_type": "code",
   "execution_count": 24,
   "id": "26c5e849",
   "metadata": {},
   "outputs": [],
   "source": [
    "x_train, x_test, y_train, y_test = train_test_split(x, y, test_size=0.2, random_state=42)"
   ]
  },
  {
   "cell_type": "code",
   "execution_count": 25,
   "id": "908b761b",
   "metadata": {},
   "outputs": [
    {
     "data": {
      "text/plain": [
       "(111721, 6)"
      ]
     },
     "execution_count": 25,
     "metadata": {},
     "output_type": "execute_result"
    }
   ],
   "source": [
    "x_train.shape"
   ]
  },
  {
   "cell_type": "code",
   "execution_count": 26,
   "id": "ca1f6930",
   "metadata": {},
   "outputs": [
    {
     "data": {
      "text/plain": [
       "(27931, 6)"
      ]
     },
     "execution_count": 26,
     "metadata": {},
     "output_type": "execute_result"
    }
   ],
   "source": [
    "x_test.shape"
   ]
  },
  {
   "cell_type": "code",
   "execution_count": 27,
   "id": "1d2005a8",
   "metadata": {},
   "outputs": [
    {
     "data": {
      "text/plain": [
       "(111721,)"
      ]
     },
     "execution_count": 27,
     "metadata": {},
     "output_type": "execute_result"
    }
   ],
   "source": [
    "y_train.shape"
   ]
  },
  {
   "cell_type": "markdown",
   "id": "98ad6b77",
   "metadata": {},
   "source": [
    "# Normalize the data"
   ]
  },
  {
   "cell_type": "code",
   "execution_count": 28,
   "id": "64dde8fd",
   "metadata": {},
   "outputs": [],
   "source": [
    "scaler = StandardScaler()\n",
    "scaled_xtrain = scaler.fit_transform(x_train)\n",
    "scaled_xtest = scaler.fit_transform(x_test)"
   ]
  },
  {
   "cell_type": "code",
   "execution_count": null,
   "id": "a450174b",
   "metadata": {},
   "outputs": [],
   "source": []
  },
  {
   "cell_type": "markdown",
   "id": "dabddb79",
   "metadata": {},
   "source": [
    "# RandomForestRegressor Model"
   ]
  },
  {
   "cell_type": "code",
   "execution_count": 29,
   "id": "ac3aa258",
   "metadata": {},
   "outputs": [
    {
     "name": "stderr",
     "output_type": "stream",
     "text": [
      "C:\\Users\\SHAMIM KHALED\\anaconda3\\Lib\\site-packages\\sklearn\\base.py:432: UserWarning: X has feature names, but RandomForestRegressor was fitted without feature names\n",
      "  warnings.warn(\n"
     ]
    },
    {
     "name": "stdout",
     "output_type": "stream",
     "text": [
      "MSE: 1279073928765.424\n"
     ]
    }
   ],
   "source": [
    "from sklearn.ensemble import RandomForestRegressor\n",
    "rfcl_regressor = RandomForestRegressor(n_estimators=100, random_state=42)\n",
    "rfcl_regressor.fit(scaled_xtrain, y_train)\n",
    "y_pred = rfcl_regressor.predict(x_test)\n",
    "print('MSE: '+str(mean_squared_error(y_test, y_pred)))"
   ]
  },
  {
   "cell_type": "markdown",
   "id": "ec45d4ae",
   "metadata": {},
   "source": [
    "## Support Vector Regressor Model"
   ]
  },
  {
   "cell_type": "code",
   "execution_count": null,
   "id": "47ff12e9",
   "metadata": {},
   "outputs": [],
   "source": [
    "# from sklearn.svm import SVR\n",
    "# svr = SVR()\n",
    "# svr.fit(scaled_xtrain, y_train)\n",
    "# y_pred = svr.predict(x_test)\n",
    "# print('MSE: '+str(mean_squared_error(y_test, y_pred)))"
   ]
  },
  {
   "cell_type": "markdown",
   "id": "be7e3999",
   "metadata": {},
   "source": [
    "# Make Prediction on test dataset"
   ]
  },
  {
   "cell_type": "code",
   "execution_count": 30,
   "id": "dcf857c3",
   "metadata": {},
   "outputs": [],
   "source": [
    "test_df = pd.read_csv(r\"C:\\Users\\SHAMIM KHALED\\jr-ml-engineer\\test.csv\", index_col='Id')\n"
   ]
  },
  {
   "cell_type": "code",
   "execution_count": 31,
   "id": "28afc849",
   "metadata": {},
   "outputs": [
    {
     "data": {
      "text/html": [
       "<div>\n",
       "<style scoped>\n",
       "    .dataframe tbody tr th:only-of-type {\n",
       "        vertical-align: middle;\n",
       "    }\n",
       "\n",
       "    .dataframe tbody tr th {\n",
       "        vertical-align: top;\n",
       "    }\n",
       "\n",
       "    .dataframe thead th {\n",
       "        text-align: right;\n",
       "    }\n",
       "</style>\n",
       "<table border=\"1\" class=\"dataframe\">\n",
       "  <thead>\n",
       "    <tr style=\"text-align: right;\">\n",
       "      <th></th>\n",
       "      <th>col4</th>\n",
       "      <th>col6</th>\n",
       "      <th>col9</th>\n",
       "      <th>col1</th>\n",
       "      <th>col8</th>\n",
       "      <th>col3</th>\n",
       "      <th>col7</th>\n",
       "    </tr>\n",
       "    <tr>\n",
       "      <th>Id</th>\n",
       "      <th></th>\n",
       "      <th></th>\n",
       "      <th></th>\n",
       "      <th></th>\n",
       "      <th></th>\n",
       "      <th></th>\n",
       "      <th></th>\n",
       "    </tr>\n",
       "  </thead>\n",
       "  <tbody>\n",
       "    <tr>\n",
       "      <th>139653</th>\n",
       "      <td>2228</td>\n",
       "      <td>6.0</td>\n",
       "      <td>B0</td>\n",
       "      <td>2017-04-01</td>\n",
       "      <td>1.0</td>\n",
       "      <td>A433</td>\n",
       "      <td>3</td>\n",
       "    </tr>\n",
       "    <tr>\n",
       "      <th>139654</th>\n",
       "      <td>2190</td>\n",
       "      <td>2.0</td>\n",
       "      <td>B0</td>\n",
       "      <td>2010-09-18</td>\n",
       "      <td>1.0</td>\n",
       "      <td>A601</td>\n",
       "      <td>1</td>\n",
       "    </tr>\n",
       "    <tr>\n",
       "      <th>139655</th>\n",
       "      <td>2035</td>\n",
       "      <td>3.0</td>\n",
       "      <td>B0</td>\n",
       "      <td>2016-10-25</td>\n",
       "      <td>2.0</td>\n",
       "      <td>A220</td>\n",
       "      <td>1</td>\n",
       "    </tr>\n",
       "    <tr>\n",
       "      <th>139656</th>\n",
       "      <td>2035</td>\n",
       "      <td>3.0</td>\n",
       "      <td>B0</td>\n",
       "      <td>2019-04-18</td>\n",
       "      <td>2.0</td>\n",
       "      <td>A220</td>\n",
       "      <td>2</td>\n",
       "    </tr>\n",
       "    <tr>\n",
       "      <th>139657</th>\n",
       "      <td>2117</td>\n",
       "      <td>4.0</td>\n",
       "      <td>B0</td>\n",
       "      <td>2014-10-02</td>\n",
       "      <td>1.0</td>\n",
       "      <td>A447</td>\n",
       "      <td>1</td>\n",
       "    </tr>\n",
       "    <tr>\n",
       "      <th>...</th>\n",
       "      <td>...</td>\n",
       "      <td>...</td>\n",
       "      <td>...</td>\n",
       "      <td>...</td>\n",
       "      <td>...</td>\n",
       "      <td>...</td>\n",
       "      <td>...</td>\n",
       "    </tr>\n",
       "    <tr>\n",
       "      <th>199500</th>\n",
       "      <td>2230</td>\n",
       "      <td>5.0</td>\n",
       "      <td>B0</td>\n",
       "      <td>2017-05-05</td>\n",
       "      <td>2.0</td>\n",
       "      <td>A44</td>\n",
       "      <td>3</td>\n",
       "    </tr>\n",
       "    <tr>\n",
       "      <th>199501</th>\n",
       "      <td>2069</td>\n",
       "      <td>5.0</td>\n",
       "      <td>B0</td>\n",
       "      <td>2013-10-04</td>\n",
       "      <td>4.0</td>\n",
       "      <td>A537</td>\n",
       "      <td>2</td>\n",
       "    </tr>\n",
       "    <tr>\n",
       "      <th>199502</th>\n",
       "      <td>2142</td>\n",
       "      <td>5.0</td>\n",
       "      <td>B0</td>\n",
       "      <td>2015-11-28</td>\n",
       "      <td>4.0</td>\n",
       "      <td>A132</td>\n",
       "      <td>4</td>\n",
       "    </tr>\n",
       "    <tr>\n",
       "      <th>199503</th>\n",
       "      <td>2112</td>\n",
       "      <td>3.0</td>\n",
       "      <td>B0</td>\n",
       "      <td>2017-09-01</td>\n",
       "      <td>2.0</td>\n",
       "      <td>A196</td>\n",
       "      <td>1</td>\n",
       "    </tr>\n",
       "    <tr>\n",
       "      <th>199504</th>\n",
       "      <td>2168</td>\n",
       "      <td>3.0</td>\n",
       "      <td>B0</td>\n",
       "      <td>2015-12-07</td>\n",
       "      <td>2.0</td>\n",
       "      <td>A629</td>\n",
       "      <td>1</td>\n",
       "    </tr>\n",
       "  </tbody>\n",
       "</table>\n",
       "<p>59852 rows × 7 columns</p>\n",
       "</div>"
      ],
      "text/plain": [
       "        col4  col6 col9        col1  col8  col3  col7\n",
       "Id                                                   \n",
       "139653  2228   6.0   B0  2017-04-01   1.0  A433     3\n",
       "139654  2190   2.0   B0  2010-09-18   1.0  A601     1\n",
       "139655  2035   3.0   B0  2016-10-25   2.0  A220     1\n",
       "139656  2035   3.0   B0  2019-04-18   2.0  A220     2\n",
       "139657  2117   4.0   B0  2014-10-02   1.0  A447     1\n",
       "...      ...   ...  ...         ...   ...   ...   ...\n",
       "199500  2230   5.0   B0  2017-05-05   2.0   A44     3\n",
       "199501  2069   5.0   B0  2013-10-04   4.0  A537     2\n",
       "199502  2142   5.0   B0  2015-11-28   4.0  A132     4\n",
       "199503  2112   3.0   B0  2017-09-01   2.0  A196     1\n",
       "199504  2168   3.0   B0  2015-12-07   2.0  A629     1\n",
       "\n",
       "[59852 rows x 7 columns]"
      ]
     },
     "execution_count": 31,
     "metadata": {},
     "output_type": "execute_result"
    }
   ],
   "source": [
    "test_df"
   ]
  },
  {
   "cell_type": "code",
   "execution_count": 32,
   "id": "3bf4f8d2",
   "metadata": {},
   "outputs": [
    {
     "name": "stdout",
     "output_type": "stream",
     "text": [
      "<class 'pandas.core.frame.DataFrame'>\n",
      "Index: 59852 entries, 139653 to 199504\n",
      "Data columns (total 7 columns):\n",
      " #   Column  Non-Null Count  Dtype  \n",
      "---  ------  --------------  -----  \n",
      " 0   col4    59852 non-null  int64  \n",
      " 1   col6    59804 non-null  float64\n",
      " 2   col9    59852 non-null  object \n",
      " 3   col1    59852 non-null  object \n",
      " 4   col8    54457 non-null  float64\n",
      " 5   col3    59852 non-null  object \n",
      " 6   col7    59852 non-null  int64  \n",
      "dtypes: float64(2), int64(2), object(3)\n",
      "memory usage: 3.7+ MB\n"
     ]
    }
   ],
   "source": [
    "test_df.info()"
   ]
  },
  {
   "cell_type": "code",
   "execution_count": 33,
   "id": "f3b5f3d8",
   "metadata": {},
   "outputs": [
    {
     "data": {
      "text/plain": [
       "col4       0\n",
       "col6      48\n",
       "col9       0\n",
       "col1       0\n",
       "col8    5395\n",
       "col3       0\n",
       "col7       0\n",
       "dtype: int64"
      ]
     },
     "execution_count": 33,
     "metadata": {},
     "output_type": "execute_result"
    }
   ],
   "source": [
    "test_df.isnull().sum()"
   ]
  },
  {
   "cell_type": "code",
   "execution_count": 34,
   "id": "e7828bb2",
   "metadata": {},
   "outputs": [],
   "source": [
    "test_df['col6'] = test_df['col6'].fillna(value=2)\n",
    "test_df['col8'] = test_df['col8'].fillna(value=2)"
   ]
  },
  {
   "cell_type": "code",
   "execution_count": 35,
   "id": "cba80f96",
   "metadata": {},
   "outputs": [
    {
     "data": {
      "text/plain": [
       "col4    0\n",
       "col6    0\n",
       "col9    0\n",
       "col1    0\n",
       "col8    0\n",
       "col3    0\n",
       "col7    0\n",
       "dtype: int64"
      ]
     },
     "execution_count": 35,
     "metadata": {},
     "output_type": "execute_result"
    }
   ],
   "source": [
    "test_df.isnull().sum()"
   ]
  },
  {
   "cell_type": "code",
   "execution_count": 36,
   "id": "528296c0",
   "metadata": {},
   "outputs": [],
   "source": [
    "from sklearn.preprocessing import LabelEncoder\n",
    "label_encoder = LabelEncoder()\n",
    "test_df['col9'] = label_encoder.fit_transform(test_df['col9'])\n",
    "test_df['col3'] = label_encoder.fit_transform(test_df['col3'])\n"
   ]
  },
  {
   "cell_type": "code",
   "execution_count": 37,
   "id": "3cf75570",
   "metadata": {},
   "outputs": [
    {
     "data": {
      "text/html": [
       "<div>\n",
       "<style scoped>\n",
       "    .dataframe tbody tr th:only-of-type {\n",
       "        vertical-align: middle;\n",
       "    }\n",
       "\n",
       "    .dataframe tbody tr th {\n",
       "        vertical-align: top;\n",
       "    }\n",
       "\n",
       "    .dataframe thead th {\n",
       "        text-align: right;\n",
       "    }\n",
       "</style>\n",
       "<table border=\"1\" class=\"dataframe\">\n",
       "  <thead>\n",
       "    <tr style=\"text-align: right;\">\n",
       "      <th></th>\n",
       "      <th>col4</th>\n",
       "      <th>col6</th>\n",
       "      <th>col9</th>\n",
       "      <th>col1</th>\n",
       "      <th>col8</th>\n",
       "      <th>col3</th>\n",
       "      <th>col7</th>\n",
       "    </tr>\n",
       "    <tr>\n",
       "      <th>Id</th>\n",
       "      <th></th>\n",
       "      <th></th>\n",
       "      <th></th>\n",
       "      <th></th>\n",
       "      <th></th>\n",
       "      <th></th>\n",
       "      <th></th>\n",
       "    </tr>\n",
       "  </thead>\n",
       "  <tbody>\n",
       "    <tr>\n",
       "      <th>139653</th>\n",
       "      <td>2228</td>\n",
       "      <td>6.0</td>\n",
       "      <td>0</td>\n",
       "      <td>2017-04-01</td>\n",
       "      <td>1.0</td>\n",
       "      <td>359</td>\n",
       "      <td>3</td>\n",
       "    </tr>\n",
       "    <tr>\n",
       "      <th>139654</th>\n",
       "      <td>2190</td>\n",
       "      <td>2.0</td>\n",
       "      <td>0</td>\n",
       "      <td>2010-09-18</td>\n",
       "      <td>1.0</td>\n",
       "      <td>535</td>\n",
       "      <td>1</td>\n",
       "    </tr>\n",
       "    <tr>\n",
       "      <th>139655</th>\n",
       "      <td>2035</td>\n",
       "      <td>3.0</td>\n",
       "      <td>0</td>\n",
       "      <td>2016-10-25</td>\n",
       "      <td>2.0</td>\n",
       "      <td>128</td>\n",
       "      <td>1</td>\n",
       "    </tr>\n",
       "    <tr>\n",
       "      <th>139656</th>\n",
       "      <td>2035</td>\n",
       "      <td>3.0</td>\n",
       "      <td>0</td>\n",
       "      <td>2019-04-18</td>\n",
       "      <td>2.0</td>\n",
       "      <td>128</td>\n",
       "      <td>2</td>\n",
       "    </tr>\n",
       "    <tr>\n",
       "      <th>139657</th>\n",
       "      <td>2117</td>\n",
       "      <td>4.0</td>\n",
       "      <td>0</td>\n",
       "      <td>2014-10-02</td>\n",
       "      <td>1.0</td>\n",
       "      <td>374</td>\n",
       "      <td>1</td>\n",
       "    </tr>\n",
       "    <tr>\n",
       "      <th>...</th>\n",
       "      <td>...</td>\n",
       "      <td>...</td>\n",
       "      <td>...</td>\n",
       "      <td>...</td>\n",
       "      <td>...</td>\n",
       "      <td>...</td>\n",
       "      <td>...</td>\n",
       "    </tr>\n",
       "    <tr>\n",
       "      <th>199500</th>\n",
       "      <td>2230</td>\n",
       "      <td>5.0</td>\n",
       "      <td>0</td>\n",
       "      <td>2017-05-05</td>\n",
       "      <td>2.0</td>\n",
       "      <td>366</td>\n",
       "      <td>3</td>\n",
       "    </tr>\n",
       "    <tr>\n",
       "      <th>199501</th>\n",
       "      <td>2069</td>\n",
       "      <td>5.0</td>\n",
       "      <td>0</td>\n",
       "      <td>2013-10-04</td>\n",
       "      <td>4.0</td>\n",
       "      <td>470</td>\n",
       "      <td>2</td>\n",
       "    </tr>\n",
       "    <tr>\n",
       "      <th>199502</th>\n",
       "      <td>2142</td>\n",
       "      <td>5.0</td>\n",
       "      <td>0</td>\n",
       "      <td>2015-11-28</td>\n",
       "      <td>4.0</td>\n",
       "      <td>36</td>\n",
       "      <td>4</td>\n",
       "    </tr>\n",
       "    <tr>\n",
       "      <th>199503</th>\n",
       "      <td>2112</td>\n",
       "      <td>3.0</td>\n",
       "      <td>0</td>\n",
       "      <td>2017-09-01</td>\n",
       "      <td>2.0</td>\n",
       "      <td>103</td>\n",
       "      <td>1</td>\n",
       "    </tr>\n",
       "    <tr>\n",
       "      <th>199504</th>\n",
       "      <td>2168</td>\n",
       "      <td>3.0</td>\n",
       "      <td>0</td>\n",
       "      <td>2015-12-07</td>\n",
       "      <td>2.0</td>\n",
       "      <td>565</td>\n",
       "      <td>1</td>\n",
       "    </tr>\n",
       "  </tbody>\n",
       "</table>\n",
       "<p>59852 rows × 7 columns</p>\n",
       "</div>"
      ],
      "text/plain": [
       "        col4  col6  col9        col1  col8  col3  col7\n",
       "Id                                                    \n",
       "139653  2228   6.0     0  2017-04-01   1.0   359     3\n",
       "139654  2190   2.0     0  2010-09-18   1.0   535     1\n",
       "139655  2035   3.0     0  2016-10-25   2.0   128     1\n",
       "139656  2035   3.0     0  2019-04-18   2.0   128     2\n",
       "139657  2117   4.0     0  2014-10-02   1.0   374     1\n",
       "...      ...   ...   ...         ...   ...   ...   ...\n",
       "199500  2230   5.0     0  2017-05-05   2.0   366     3\n",
       "199501  2069   5.0     0  2013-10-04   4.0   470     2\n",
       "199502  2142   5.0     0  2015-11-28   4.0    36     4\n",
       "199503  2112   3.0     0  2017-09-01   2.0   103     1\n",
       "199504  2168   3.0     0  2015-12-07   2.0   565     1\n",
       "\n",
       "[59852 rows x 7 columns]"
      ]
     },
     "execution_count": 37,
     "metadata": {},
     "output_type": "execute_result"
    }
   ],
   "source": [
    "test_df"
   ]
  },
  {
   "cell_type": "code",
   "execution_count": 38,
   "id": "f7f7def2",
   "metadata": {},
   "outputs": [],
   "source": [
    "new_test_df = test_df.drop(columns='col1')"
   ]
  },
  {
   "cell_type": "code",
   "execution_count": 41,
   "id": "900b2c06",
   "metadata": {},
   "outputs": [],
   "source": [
    "index_column = test_df.index"
   ]
  },
  {
   "cell_type": "code",
   "execution_count": 42,
   "id": "765c0275",
   "metadata": {},
   "outputs": [],
   "source": [
    "scaler = StandardScaler()\n",
    "scaled_test_df = scaler.fit_transform(new_test_df)\n"
   ]
  },
  {
   "cell_type": "code",
   "execution_count": 44,
   "id": "ba88d45a",
   "metadata": {},
   "outputs": [
    {
     "data": {
      "text/plain": [
       "array([1180134.67261905,  746731.23880139, 1406994.65527002, ...,\n",
       "        956325.        , 1051431.1703941 ,  648912.97565751])"
      ]
     },
     "execution_count": 44,
     "metadata": {},
     "output_type": "execute_result"
    }
   ],
   "source": [
    "rfcl_y_predict_test = rfcl_regressor.predict(scaled_test_df)\n",
    "rfcl_y_predict_test"
   ]
  },
  {
   "cell_type": "code",
   "execution_count": null,
   "id": "353a1cd9",
   "metadata": {},
   "outputs": [],
   "source": []
  },
  {
   "cell_type": "code",
   "execution_count": 45,
   "id": "2b40774a",
   "metadata": {},
   "outputs": [
    {
     "data": {
      "text/html": [
       "<div>\n",
       "<style scoped>\n",
       "    .dataframe tbody tr th:only-of-type {\n",
       "        vertical-align: middle;\n",
       "    }\n",
       "\n",
       "    .dataframe tbody tr th {\n",
       "        vertical-align: top;\n",
       "    }\n",
       "\n",
       "    .dataframe thead th {\n",
       "        text-align: right;\n",
       "    }\n",
       "</style>\n",
       "<table border=\"1\" class=\"dataframe\">\n",
       "  <thead>\n",
       "    <tr style=\"text-align: right;\">\n",
       "      <th></th>\n",
       "      <th>Id</th>\n",
       "      <th>y</th>\n",
       "    </tr>\n",
       "  </thead>\n",
       "  <tbody>\n",
       "    <tr>\n",
       "      <th>0</th>\n",
       "      <td>139653</td>\n",
       "      <td>1.180135e+06</td>\n",
       "    </tr>\n",
       "    <tr>\n",
       "      <th>1</th>\n",
       "      <td>139654</td>\n",
       "      <td>7.467312e+05</td>\n",
       "    </tr>\n",
       "    <tr>\n",
       "      <th>2</th>\n",
       "      <td>139655</td>\n",
       "      <td>1.406995e+06</td>\n",
       "    </tr>\n",
       "    <tr>\n",
       "      <th>3</th>\n",
       "      <td>139656</td>\n",
       "      <td>1.531959e+06</td>\n",
       "    </tr>\n",
       "    <tr>\n",
       "      <th>4</th>\n",
       "      <td>139657</td>\n",
       "      <td>1.136183e+06</td>\n",
       "    </tr>\n",
       "    <tr>\n",
       "      <th>...</th>\n",
       "      <td>...</td>\n",
       "      <td>...</td>\n",
       "    </tr>\n",
       "    <tr>\n",
       "      <th>59847</th>\n",
       "      <td>199500</td>\n",
       "      <td>1.894879e+06</td>\n",
       "    </tr>\n",
       "    <tr>\n",
       "      <th>59848</th>\n",
       "      <td>199501</td>\n",
       "      <td>2.142732e+06</td>\n",
       "    </tr>\n",
       "    <tr>\n",
       "      <th>59849</th>\n",
       "      <td>199502</td>\n",
       "      <td>9.563250e+05</td>\n",
       "    </tr>\n",
       "    <tr>\n",
       "      <th>59850</th>\n",
       "      <td>199503</td>\n",
       "      <td>1.051431e+06</td>\n",
       "    </tr>\n",
       "    <tr>\n",
       "      <th>59851</th>\n",
       "      <td>199504</td>\n",
       "      <td>6.489130e+05</td>\n",
       "    </tr>\n",
       "  </tbody>\n",
       "</table>\n",
       "<p>59852 rows × 2 columns</p>\n",
       "</div>"
      ],
      "text/plain": [
       "           Id             y\n",
       "0      139653  1.180135e+06\n",
       "1      139654  7.467312e+05\n",
       "2      139655  1.406995e+06\n",
       "3      139656  1.531959e+06\n",
       "4      139657  1.136183e+06\n",
       "...       ...           ...\n",
       "59847  199500  1.894879e+06\n",
       "59848  199501  2.142732e+06\n",
       "59849  199502  9.563250e+05\n",
       "59850  199503  1.051431e+06\n",
       "59851  199504  6.489130e+05\n",
       "\n",
       "[59852 rows x 2 columns]"
      ]
     },
     "execution_count": 45,
     "metadata": {},
     "output_type": "execute_result"
    }
   ],
   "source": [
    "predict_y_column = pd.DataFrame({ 'Id': index_column, 'y': rfcl_y_predict_test })\n",
    "predict_y_column.to_csv('shamim_khaled.csv', index=False)\n",
    "rfcl_predict_y = pd.read_csv('shamim_khaled.csv')\n",
    "rfcl_predict_y"
   ]
  },
  {
   "cell_type": "code",
   "execution_count": null,
   "id": "e1394fb2",
   "metadata": {},
   "outputs": [],
   "source": []
  },
  {
   "cell_type": "code",
   "execution_count": null,
   "id": "387b33be",
   "metadata": {},
   "outputs": [],
   "source": []
  },
  {
   "cell_type": "code",
   "execution_count": null,
   "id": "e8707b2e",
   "metadata": {},
   "outputs": [],
   "source": []
  },
  {
   "cell_type": "code",
   "execution_count": null,
   "id": "d37ef127",
   "metadata": {},
   "outputs": [],
   "source": []
  },
  {
   "cell_type": "code",
   "execution_count": null,
   "id": "0bbecabb",
   "metadata": {},
   "outputs": [],
   "source": []
  },
  {
   "cell_type": "code",
   "execution_count": null,
   "id": "ea036d91",
   "metadata": {},
   "outputs": [],
   "source": []
  },
  {
   "cell_type": "code",
   "execution_count": null,
   "id": "c571b735",
   "metadata": {},
   "outputs": [],
   "source": []
  },
  {
   "cell_type": "code",
   "execution_count": null,
   "id": "bd043ebf",
   "metadata": {},
   "outputs": [],
   "source": []
  }
 ],
 "metadata": {
  "kernelspec": {
   "display_name": "Python 3 (ipykernel)",
   "language": "python",
   "name": "python3"
  },
  "language_info": {
   "codemirror_mode": {
    "name": "ipython",
    "version": 3
   },
   "file_extension": ".py",
   "mimetype": "text/x-python",
   "name": "python",
   "nbconvert_exporter": "python",
   "pygments_lexer": "ipython3",
   "version": "3.11.7"
  },
  "varInspector": {
   "cols": {
    "lenName": 16,
    "lenType": 16,
    "lenVar": 40
   },
   "kernels_config": {
    "python": {
     "delete_cmd_postfix": "",
     "delete_cmd_prefix": "del ",
     "library": "var_list.py",
     "varRefreshCmd": "print(var_dic_list())"
    },
    "r": {
     "delete_cmd_postfix": ") ",
     "delete_cmd_prefix": "rm(",
     "library": "var_list.r",
     "varRefreshCmd": "cat(var_dic_list()) "
    }
   },
   "types_to_exclude": [
    "module",
    "function",
    "builtin_function_or_method",
    "instance",
    "_Feature"
   ],
   "window_display": false
  }
 },
 "nbformat": 4,
 "nbformat_minor": 5
}
