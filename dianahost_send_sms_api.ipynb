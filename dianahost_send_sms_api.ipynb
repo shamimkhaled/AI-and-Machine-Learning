{
  "nbformat": 4,
  "nbformat_minor": 0,
  "metadata": {
    "colab": {
      "provenance": []
    },
    "kernelspec": {
      "name": "python3",
      "display_name": "Python 3"
    },
    "language_info": {
      "name": "python"
    }
  },
  "cells": [
    {
      "cell_type": "code",
      "source": [
        "from google.colab import drive\n",
        "drive.mount('/content/drive')"
      ],
      "metadata": {
        "colab": {
          "base_uri": "https://localhost:8080/"
        },
        "id": "CkZ1K96_3mxg",
        "outputId": "af1b812a-3669-4579-e2fb-a2156545ebe2"
      },
      "execution_count": null,
      "outputs": [
        {
          "output_type": "stream",
          "name": "stdout",
          "text": [
            "Mounted at /content/drive\n"
          ]
        }
      ]
    },
    {
      "cell_type": "code",
      "source": [
        "import requests\n",
        "\n",
        "url = 'https://login.esms.com.bd/api/v3/sms/send'\n",
        "headers = {\n",
        "    'Authorization': 'Bearer 297|QweAZt4BLS5eL1MTjmk4UZvWlHPaOnsIhpW7iv',\n",
        "    'Content-Type': 'application/json'\n",
        "}\n",
        "\n",
        "#recipients = ['8801311848771', '8801814392710']\n",
        "data = {\n",
        "    \"recipient\": \"8801814392710\",\n",
        "    \"sender_id\": \"8809601001296\",\n",
        "    \"type\": \"plain\",\n",
        "    \"message\": \"Rohan is fucking madarchud!\"\n",
        "}\n",
        "\n",
        "response = requests.post(url, headers=headers, json=data)\n",
        "\n",
        "print(response.status_code)\n",
        "print(response.text)\n"
      ],
      "metadata": {
        "colab": {
          "base_uri": "https://localhost:8080/"
        },
        "id": "2cWifxeY0hYo",
        "outputId": "d26b8ab8-56dc-4ba2-ed89-417820343964"
      },
      "execution_count": null,
      "outputs": [
        {
          "output_type": "stream",
          "name": "stdout",
          "text": [
            "200\n",
            "{\"status\":\"success\",\"message\":\"Your message was successfully delivered\",\"data\":{\"uid\":\"65fc3e855c758\",\"to\":\"8801814392710\",\"from\":\"8809601001296\",\"message\":\"Rohan is fucking madarchud!\",\"status\":\"Delivered\",\"cost\":\"0.4\"}}\n"
          ]
        }
      ]
    },
    {
      "cell_type": "code",
      "source": [
        "import requests\n",
        "\n",
        "url = 'https://login.esms.com.bd/api/v3/sms/send'\n",
        "headers = {\n",
        "    'Authorization': 'Bearer 297|QweAZt4BLS5eL1MTjmk4UZvWlHPaOnsIhpW7iv',\n",
        "    'Content-Type': 'application/json'\n",
        "}\n",
        "recipients = [\"8801311848771\", \"8801814392710\", \"8801903526254\"]\n",
        "sender_id = \"8809601001296\"\n",
        "message = \"Rohan is fucking madarchud!\"\n",
        "\n",
        "for recipient in recipients:\n",
        "    data = {\n",
        "        \"recipient\": recipient,\n",
        "        \"sender_id\": sender_id,\n",
        "        \"type\": \"plain\",\n",
        "        \"message\": message\n",
        "    }\n",
        "\n",
        "    response = requests.post(url, headers=headers, json=data)\n",
        "\n",
        "    print(f\"Recipient: {recipient}\")\n",
        "    print(f\"Status code: {response.status_code}\")\n",
        "    print(f\"Response text: {response.text}\")\n",
        "    print()\n"
      ],
      "metadata": {
        "colab": {
          "base_uri": "https://localhost:8080/"
        },
        "id": "MgUzoewWTmMD",
        "outputId": "7b032397-7d97-40d3-a226-2aca6ab82fbb"
      },
      "execution_count": 1,
      "outputs": [
        {
          "output_type": "stream",
          "name": "stdout",
          "text": [
            "Recipient: 8801311848771\n",
            "Status code: 200\n",
            "Response text: {\"status\":\"success\",\"message\":\"Your message was successfully delivered\",\"data\":{\"uid\":\"65fc5a674e80f\",\"to\":\"8801311848771\",\"from\":\"8809601001296\",\"message\":\"Rohan is fucking madarchud!\",\"status\":\"Delivered\",\"cost\":\"0.4\"}}\n",
            "\n",
            "Recipient: 8801814392710\n",
            "Status code: 200\n",
            "Response text: {\"status\":\"success\",\"message\":\"Your message was successfully delivered\",\"data\":{\"uid\":\"65fc5a6a734ef\",\"to\":\"8801814392710\",\"from\":\"8809601001296\",\"message\":\"Rohan is fucking madarchud!\",\"status\":\"Delivered\",\"cost\":\"0.4\"}}\n",
            "\n",
            "Recipient: 8801903526254\n",
            "Status code: 200\n",
            "Response text: {\"status\":\"success\",\"message\":\"Your message was successfully delivered\",\"data\":{\"uid\":\"65fc5a6cedc56\",\"to\":\"8801903526254\",\"from\":\"8809601001296\",\"message\":\"Rohan is fucking madarchud!\",\"status\":\"Delivered\",\"cost\":\"0.4\"}}\n",
            "\n"
          ]
        }
      ]
    }
  ]
}